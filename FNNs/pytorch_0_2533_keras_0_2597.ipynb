{
  "cells": [
    {
      "cell_type": "code",
      "execution_count": 11,
      "metadata": {
        "id": "lIYdn1woOS1n"
      },
      "outputs": [],
      "source": [
        "# basic packages\n",
        "import pandas as pd\n",
        "import matplotlib.pyplot as plt\n",
        "from sklearn.datasets import fetch_california_housing\n",
        "from sklearn.model_selection import train_test_split\n",
        "from sklearn.preprocessing import StandardScaler\n",
        "from sklearn.metrics import mean_squared_error\n"
      ]
    },
    {
      "cell_type": "code",
      "source": [
        "data = fetch_california_housing()\n",
        "X = pd.DataFrame(data.data, columns=data.feature_names)\n",
        "y = pd.DataFrame(data.target, columns=['MedHouseVal'])\n",
        "\n",
        "X.head()"
      ],
      "metadata": {
        "colab": {
          "base_uri": "https://localhost:8080/",
          "height": 206
        },
        "id": "bvI0d4rjx8Jz",
        "outputId": "43bb3956-a62f-418c-c12c-bc5ad6d001e2"
      },
      "execution_count": 80,
      "outputs": [
        {
          "output_type": "execute_result",
          "data": {
            "text/plain": [
              "   MedInc  HouseAge  AveRooms  AveBedrms  Population  AveOccup  Latitude  \\\n",
              "0  8.3252      41.0  6.984127   1.023810       322.0  2.555556     37.88   \n",
              "1  8.3014      21.0  6.238137   0.971880      2401.0  2.109842     37.86   \n",
              "2  7.2574      52.0  8.288136   1.073446       496.0  2.802260     37.85   \n",
              "3  5.6431      52.0  5.817352   1.073059       558.0  2.547945     37.85   \n",
              "4  3.8462      52.0  6.281853   1.081081       565.0  2.181467     37.85   \n",
              "\n",
              "   Longitude  \n",
              "0    -122.23  \n",
              "1    -122.22  \n",
              "2    -122.24  \n",
              "3    -122.25  \n",
              "4    -122.25  "
            ],
            "text/html": [
              "\n",
              "  <div id=\"df-f1fc5ee3-dcdd-4dc5-9b41-2a2a31bf9830\" class=\"colab-df-container\">\n",
              "    <div>\n",
              "<style scoped>\n",
              "    .dataframe tbody tr th:only-of-type {\n",
              "        vertical-align: middle;\n",
              "    }\n",
              "\n",
              "    .dataframe tbody tr th {\n",
              "        vertical-align: top;\n",
              "    }\n",
              "\n",
              "    .dataframe thead th {\n",
              "        text-align: right;\n",
              "    }\n",
              "</style>\n",
              "<table border=\"1\" class=\"dataframe\">\n",
              "  <thead>\n",
              "    <tr style=\"text-align: right;\">\n",
              "      <th></th>\n",
              "      <th>MedInc</th>\n",
              "      <th>HouseAge</th>\n",
              "      <th>AveRooms</th>\n",
              "      <th>AveBedrms</th>\n",
              "      <th>Population</th>\n",
              "      <th>AveOccup</th>\n",
              "      <th>Latitude</th>\n",
              "      <th>Longitude</th>\n",
              "    </tr>\n",
              "  </thead>\n",
              "  <tbody>\n",
              "    <tr>\n",
              "      <th>0</th>\n",
              "      <td>8.3252</td>\n",
              "      <td>41.0</td>\n",
              "      <td>6.984127</td>\n",
              "      <td>1.023810</td>\n",
              "      <td>322.0</td>\n",
              "      <td>2.555556</td>\n",
              "      <td>37.88</td>\n",
              "      <td>-122.23</td>\n",
              "    </tr>\n",
              "    <tr>\n",
              "      <th>1</th>\n",
              "      <td>8.3014</td>\n",
              "      <td>21.0</td>\n",
              "      <td>6.238137</td>\n",
              "      <td>0.971880</td>\n",
              "      <td>2401.0</td>\n",
              "      <td>2.109842</td>\n",
              "      <td>37.86</td>\n",
              "      <td>-122.22</td>\n",
              "    </tr>\n",
              "    <tr>\n",
              "      <th>2</th>\n",
              "      <td>7.2574</td>\n",
              "      <td>52.0</td>\n",
              "      <td>8.288136</td>\n",
              "      <td>1.073446</td>\n",
              "      <td>496.0</td>\n",
              "      <td>2.802260</td>\n",
              "      <td>37.85</td>\n",
              "      <td>-122.24</td>\n",
              "    </tr>\n",
              "    <tr>\n",
              "      <th>3</th>\n",
              "      <td>5.6431</td>\n",
              "      <td>52.0</td>\n",
              "      <td>5.817352</td>\n",
              "      <td>1.073059</td>\n",
              "      <td>558.0</td>\n",
              "      <td>2.547945</td>\n",
              "      <td>37.85</td>\n",
              "      <td>-122.25</td>\n",
              "    </tr>\n",
              "    <tr>\n",
              "      <th>4</th>\n",
              "      <td>3.8462</td>\n",
              "      <td>52.0</td>\n",
              "      <td>6.281853</td>\n",
              "      <td>1.081081</td>\n",
              "      <td>565.0</td>\n",
              "      <td>2.181467</td>\n",
              "      <td>37.85</td>\n",
              "      <td>-122.25</td>\n",
              "    </tr>\n",
              "  </tbody>\n",
              "</table>\n",
              "</div>\n",
              "    <div class=\"colab-df-buttons\">\n",
              "\n",
              "  <div class=\"colab-df-container\">\n",
              "    <button class=\"colab-df-convert\" onclick=\"convertToInteractive('df-f1fc5ee3-dcdd-4dc5-9b41-2a2a31bf9830')\"\n",
              "            title=\"Convert this dataframe to an interactive table.\"\n",
              "            style=\"display:none;\">\n",
              "\n",
              "  <svg xmlns=\"http://www.w3.org/2000/svg\" height=\"24px\" viewBox=\"0 -960 960 960\">\n",
              "    <path d=\"M120-120v-720h720v720H120Zm60-500h600v-160H180v160Zm220 220h160v-160H400v160Zm0 220h160v-160H400v160ZM180-400h160v-160H180v160Zm440 0h160v-160H620v160ZM180-180h160v-160H180v160Zm440 0h160v-160H620v160Z\"/>\n",
              "  </svg>\n",
              "    </button>\n",
              "\n",
              "  <style>\n",
              "    .colab-df-container {\n",
              "      display:flex;\n",
              "      gap: 12px;\n",
              "    }\n",
              "\n",
              "    .colab-df-convert {\n",
              "      background-color: #E8F0FE;\n",
              "      border: none;\n",
              "      border-radius: 50%;\n",
              "      cursor: pointer;\n",
              "      display: none;\n",
              "      fill: #1967D2;\n",
              "      height: 32px;\n",
              "      padding: 0 0 0 0;\n",
              "      width: 32px;\n",
              "    }\n",
              "\n",
              "    .colab-df-convert:hover {\n",
              "      background-color: #E2EBFA;\n",
              "      box-shadow: 0px 1px 2px rgba(60, 64, 67, 0.3), 0px 1px 3px 1px rgba(60, 64, 67, 0.15);\n",
              "      fill: #174EA6;\n",
              "    }\n",
              "\n",
              "    .colab-df-buttons div {\n",
              "      margin-bottom: 4px;\n",
              "    }\n",
              "\n",
              "    [theme=dark] .colab-df-convert {\n",
              "      background-color: #3B4455;\n",
              "      fill: #D2E3FC;\n",
              "    }\n",
              "\n",
              "    [theme=dark] .colab-df-convert:hover {\n",
              "      background-color: #434B5C;\n",
              "      box-shadow: 0px 1px 3px 1px rgba(0, 0, 0, 0.15);\n",
              "      filter: drop-shadow(0px 1px 2px rgba(0, 0, 0, 0.3));\n",
              "      fill: #FFFFFF;\n",
              "    }\n",
              "  </style>\n",
              "\n",
              "    <script>\n",
              "      const buttonEl =\n",
              "        document.querySelector('#df-f1fc5ee3-dcdd-4dc5-9b41-2a2a31bf9830 button.colab-df-convert');\n",
              "      buttonEl.style.display =\n",
              "        google.colab.kernel.accessAllowed ? 'block' : 'none';\n",
              "\n",
              "      async function convertToInteractive(key) {\n",
              "        const element = document.querySelector('#df-f1fc5ee3-dcdd-4dc5-9b41-2a2a31bf9830');\n",
              "        const dataTable =\n",
              "          await google.colab.kernel.invokeFunction('convertToInteractive',\n",
              "                                                    [key], {});\n",
              "        if (!dataTable) return;\n",
              "\n",
              "        const docLinkHtml = 'Like what you see? Visit the ' +\n",
              "          '<a target=\"_blank\" href=https://colab.research.google.com/notebooks/data_table.ipynb>data table notebook</a>'\n",
              "          + ' to learn more about interactive tables.';\n",
              "        element.innerHTML = '';\n",
              "        dataTable['output_type'] = 'display_data';\n",
              "        await google.colab.output.renderOutput(dataTable, element);\n",
              "        const docLink = document.createElement('div');\n",
              "        docLink.innerHTML = docLinkHtml;\n",
              "        element.appendChild(docLink);\n",
              "      }\n",
              "    </script>\n",
              "  </div>\n",
              "\n",
              "\n",
              "<div id=\"df-a39cf483-3ee0-49f3-a7d2-9fe9ebeeb972\">\n",
              "  <button class=\"colab-df-quickchart\" onclick=\"quickchart('df-a39cf483-3ee0-49f3-a7d2-9fe9ebeeb972')\"\n",
              "            title=\"Suggest charts\"\n",
              "            style=\"display:none;\">\n",
              "\n",
              "<svg xmlns=\"http://www.w3.org/2000/svg\" height=\"24px\"viewBox=\"0 0 24 24\"\n",
              "     width=\"24px\">\n",
              "    <g>\n",
              "        <path d=\"M19 3H5c-1.1 0-2 .9-2 2v14c0 1.1.9 2 2 2h14c1.1 0 2-.9 2-2V5c0-1.1-.9-2-2-2zM9 17H7v-7h2v7zm4 0h-2V7h2v10zm4 0h-2v-4h2v4z\"/>\n",
              "    </g>\n",
              "</svg>\n",
              "  </button>\n",
              "\n",
              "<style>\n",
              "  .colab-df-quickchart {\n",
              "      --bg-color: #E8F0FE;\n",
              "      --fill-color: #1967D2;\n",
              "      --hover-bg-color: #E2EBFA;\n",
              "      --hover-fill-color: #174EA6;\n",
              "      --disabled-fill-color: #AAA;\n",
              "      --disabled-bg-color: #DDD;\n",
              "  }\n",
              "\n",
              "  [theme=dark] .colab-df-quickchart {\n",
              "      --bg-color: #3B4455;\n",
              "      --fill-color: #D2E3FC;\n",
              "      --hover-bg-color: #434B5C;\n",
              "      --hover-fill-color: #FFFFFF;\n",
              "      --disabled-bg-color: #3B4455;\n",
              "      --disabled-fill-color: #666;\n",
              "  }\n",
              "\n",
              "  .colab-df-quickchart {\n",
              "    background-color: var(--bg-color);\n",
              "    border: none;\n",
              "    border-radius: 50%;\n",
              "    cursor: pointer;\n",
              "    display: none;\n",
              "    fill: var(--fill-color);\n",
              "    height: 32px;\n",
              "    padding: 0;\n",
              "    width: 32px;\n",
              "  }\n",
              "\n",
              "  .colab-df-quickchart:hover {\n",
              "    background-color: var(--hover-bg-color);\n",
              "    box-shadow: 0 1px 2px rgba(60, 64, 67, 0.3), 0 1px 3px 1px rgba(60, 64, 67, 0.15);\n",
              "    fill: var(--button-hover-fill-color);\n",
              "  }\n",
              "\n",
              "  .colab-df-quickchart-complete:disabled,\n",
              "  .colab-df-quickchart-complete:disabled:hover {\n",
              "    background-color: var(--disabled-bg-color);\n",
              "    fill: var(--disabled-fill-color);\n",
              "    box-shadow: none;\n",
              "  }\n",
              "\n",
              "  .colab-df-spinner {\n",
              "    border: 2px solid var(--fill-color);\n",
              "    border-color: transparent;\n",
              "    border-bottom-color: var(--fill-color);\n",
              "    animation:\n",
              "      spin 1s steps(1) infinite;\n",
              "  }\n",
              "\n",
              "  @keyframes spin {\n",
              "    0% {\n",
              "      border-color: transparent;\n",
              "      border-bottom-color: var(--fill-color);\n",
              "      border-left-color: var(--fill-color);\n",
              "    }\n",
              "    20% {\n",
              "      border-color: transparent;\n",
              "      border-left-color: var(--fill-color);\n",
              "      border-top-color: var(--fill-color);\n",
              "    }\n",
              "    30% {\n",
              "      border-color: transparent;\n",
              "      border-left-color: var(--fill-color);\n",
              "      border-top-color: var(--fill-color);\n",
              "      border-right-color: var(--fill-color);\n",
              "    }\n",
              "    40% {\n",
              "      border-color: transparent;\n",
              "      border-right-color: var(--fill-color);\n",
              "      border-top-color: var(--fill-color);\n",
              "    }\n",
              "    60% {\n",
              "      border-color: transparent;\n",
              "      border-right-color: var(--fill-color);\n",
              "    }\n",
              "    80% {\n",
              "      border-color: transparent;\n",
              "      border-right-color: var(--fill-color);\n",
              "      border-bottom-color: var(--fill-color);\n",
              "    }\n",
              "    90% {\n",
              "      border-color: transparent;\n",
              "      border-bottom-color: var(--fill-color);\n",
              "    }\n",
              "  }\n",
              "</style>\n",
              "\n",
              "  <script>\n",
              "    async function quickchart(key) {\n",
              "      const quickchartButtonEl =\n",
              "        document.querySelector('#' + key + ' button');\n",
              "      quickchartButtonEl.disabled = true;  // To prevent multiple clicks.\n",
              "      quickchartButtonEl.classList.add('colab-df-spinner');\n",
              "      try {\n",
              "        const charts = await google.colab.kernel.invokeFunction(\n",
              "            'suggestCharts', [key], {});\n",
              "      } catch (error) {\n",
              "        console.error('Error during call to suggestCharts:', error);\n",
              "      }\n",
              "      quickchartButtonEl.classList.remove('colab-df-spinner');\n",
              "      quickchartButtonEl.classList.add('colab-df-quickchart-complete');\n",
              "    }\n",
              "    (() => {\n",
              "      let quickchartButtonEl =\n",
              "        document.querySelector('#df-a39cf483-3ee0-49f3-a7d2-9fe9ebeeb972 button');\n",
              "      quickchartButtonEl.style.display =\n",
              "        google.colab.kernel.accessAllowed ? 'block' : 'none';\n",
              "    })();\n",
              "  </script>\n",
              "</div>\n",
              "    </div>\n",
              "  </div>\n"
            ],
            "application/vnd.google.colaboratory.intrinsic+json": {
              "type": "dataframe",
              "variable_name": "X",
              "summary": "{\n  \"name\": \"X\",\n  \"rows\": 20640,\n  \"fields\": [\n    {\n      \"column\": \"MedInc\",\n      \"properties\": {\n        \"dtype\": \"number\",\n        \"std\": 1.8998217179452688,\n        \"min\": 0.4999,\n        \"max\": 15.0001,\n        \"num_unique_values\": 12928,\n        \"samples\": [\n          5.0286,\n          2.0433,\n          6.1228\n        ],\n        \"semantic_type\": \"\",\n        \"description\": \"\"\n      }\n    },\n    {\n      \"column\": \"HouseAge\",\n      \"properties\": {\n        \"dtype\": \"number\",\n        \"std\": 12.58555761211165,\n        \"min\": 1.0,\n        \"max\": 52.0,\n        \"num_unique_values\": 52,\n        \"samples\": [\n          35.0,\n          25.0,\n          7.0\n        ],\n        \"semantic_type\": \"\",\n        \"description\": \"\"\n      }\n    },\n    {\n      \"column\": \"AveRooms\",\n      \"properties\": {\n        \"dtype\": \"number\",\n        \"std\": 2.4741731394243187,\n        \"min\": 0.8461538461538461,\n        \"max\": 141.9090909090909,\n        \"num_unique_values\": 19392,\n        \"samples\": [\n          6.111269614835948,\n          5.912820512820513,\n          5.7924528301886795\n        ],\n        \"semantic_type\": \"\",\n        \"description\": \"\"\n      }\n    },\n    {\n      \"column\": \"AveBedrms\",\n      \"properties\": {\n        \"dtype\": \"number\",\n        \"std\": 0.473910856795466,\n        \"min\": 0.3333333333333333,\n        \"max\": 34.06666666666667,\n        \"num_unique_values\": 14233,\n        \"samples\": [\n          0.9906542056074766,\n          1.112099644128114,\n          1.0398230088495575\n        ],\n        \"semantic_type\": \"\",\n        \"description\": \"\"\n      }\n    },\n    {\n      \"column\": \"Population\",\n      \"properties\": {\n        \"dtype\": \"number\",\n        \"std\": 1132.462121765341,\n        \"min\": 3.0,\n        \"max\": 35682.0,\n        \"num_unique_values\": 3888,\n        \"samples\": [\n          4169.0,\n          636.0,\n          3367.0\n        ],\n        \"semantic_type\": \"\",\n        \"description\": \"\"\n      }\n    },\n    {\n      \"column\": \"AveOccup\",\n      \"properties\": {\n        \"dtype\": \"number\",\n        \"std\": 10.386049562213618,\n        \"min\": 0.6923076923076923,\n        \"max\": 1243.3333333333333,\n        \"num_unique_values\": 18841,\n        \"samples\": [\n          2.6939799331103678,\n          3.559375,\n          3.297082228116711\n        ],\n        \"semantic_type\": \"\",\n        \"description\": \"\"\n      }\n    },\n    {\n      \"column\": \"Latitude\",\n      \"properties\": {\n        \"dtype\": \"number\",\n        \"std\": 2.1359523974571153,\n        \"min\": 32.54,\n        \"max\": 41.95,\n        \"num_unique_values\": 862,\n        \"samples\": [\n          33.7,\n          34.41,\n          38.24\n        ],\n        \"semantic_type\": \"\",\n        \"description\": \"\"\n      }\n    },\n    {\n      \"column\": \"Longitude\",\n      \"properties\": {\n        \"dtype\": \"number\",\n        \"std\": 2.0035317235025882,\n        \"min\": -124.35,\n        \"max\": -114.31,\n        \"num_unique_values\": 844,\n        \"samples\": [\n          -118.63,\n          -119.86,\n          -121.26\n        ],\n        \"semantic_type\": \"\",\n        \"description\": \"\"\n      }\n    }\n  ]\n}"
            }
          },
          "metadata": {},
          "execution_count": 80
        }
      ]
    },
    {
      "cell_type": "code",
      "source": [
        "X.shape"
      ],
      "metadata": {
        "colab": {
          "base_uri": "https://localhost:8080/"
        },
        "id": "LyYniH5Iy_ZC",
        "outputId": "850ce28c-9418-4cdf-ac85-81ea7783920d"
      },
      "execution_count": 13,
      "outputs": [
        {
          "output_type": "execute_result",
          "data": {
            "text/plain": [
              "(20640, 8)"
            ]
          },
          "metadata": {},
          "execution_count": 13
        }
      ]
    },
    {
      "cell_type": "code",
      "source": [
        "# Split the dataset into training and testing sets\n",
        "X_train, X_test, y_train, y_test = train_test_split(X, y, test_size=0.2, random_state=42)\n",
        "\n",
        "# Standardize the features (common preprocessing step)\n",
        "scaler = StandardScaler()\n",
        "scaler.fit(X_train)\n",
        "X_train = scaler.transform(X_train)\n",
        "X_test = scaler.transform(X_test)"
      ],
      "metadata": {
        "id": "4SVZD7gwzEh7"
      },
      "execution_count": 81,
      "outputs": []
    },
    {
      "cell_type": "markdown",
      "source": [
        "# PyTorch Setup for Regression (Price Prediction)\n",
        "\n",
        "## **Pytorch test loss:  0.2533**\n",
        "\n",
        "* batch_size = 64\n",
        "* Architecture:         \n",
        "        self.fc1 = nn.Linear(input_size, 128)\n",
        "        self.fc2 = nn.Linear(128, 64)\n",
        "        self.fc3 = nn.Linear(64, 32)\n",
        "        self.fc4 = nn.Linear(32, 1)\n",
        "\n",
        "* activation = tanh\n",
        "* learning_rate = 0.001\n",
        "* epochs = 50\n",
        "\n",
        "\n"
      ],
      "metadata": {
        "id": "8Lqs8Qi30C9x"
      }
    },
    {
      "cell_type": "code",
      "source": [
        "import torch\n",
        "from torch.utils.data import DataLoader, TensorDataset\n",
        "import torch.nn as nn\n",
        "import torch.optim as optim\n"
      ],
      "metadata": {
        "id": "6AnEkZlz0Cs7"
      },
      "execution_count": 15,
      "outputs": []
    },
    {
      "cell_type": "code",
      "source": [
        "# Convert data to PyTorch tensors (backend setup)\n",
        "X_train_tensor = torch.tensor(X_train, dtype=torch.float32)\n",
        "y_train_tensor = torch.tensor(y_train.values, dtype=torch.float32)\n",
        "X_test_tensor = torch.tensor(X_test, dtype=torch.float32)\n",
        "y_test_tensor = torch.tensor(y_test.values, dtype=torch.float32)\n",
        "\n",
        "# Create DataLoader for batching\n",
        "train_loader = DataLoader(TensorDataset(X_train_tensor, y_train_tensor), batch_size=64, shuffle=True)\n",
        "test_loader = DataLoader(TensorDataset(X_test_tensor, y_test_tensor), batch_size=64, shuffle=False)\n"
      ],
      "metadata": {
        "id": "I5GRBYoZ3xCM"
      },
      "execution_count": 16,
      "outputs": []
    },
    {
      "cell_type": "code",
      "source": [
        "# Create the model\n",
        "class RegressionNN(nn.Module):\n",
        "    def __init__(self, input_size=8):\n",
        "        super(RegressionNN, self).__init__()\n",
        "        self.fc1 = nn.Linear(input_size, 128)\n",
        "        self.fc2 = nn.Linear(128, 64)\n",
        "        self.fc3 = nn.Linear(64, 32)\n",
        "        self.fc4 = nn.Linear(32, 1) # 1 output for house value prediction\n",
        "\n",
        "    def forward(self, x):\n",
        "      # functional API\n",
        "        x = torch.tanh(self.fc1(x))\n",
        "        x = torch.tanh(self.fc2(x))\n",
        "        x = torch.tanh(self.fc3(x))\n",
        "        x = self.fc4(x)\n",
        "        return x\n"
      ],
      "metadata": {
        "id": "zAgtuVd434v3"
      },
      "execution_count": 17,
      "outputs": []
    },
    {
      "cell_type": "code",
      "source": [
        "# Initialize the model, loss function, and optimizer\n",
        "pytorch_model = RegressionNN()\n",
        "\n",
        "criterion = nn.MSELoss()\n",
        "optimizer = optim.Adam(pytorch_model.parameters(), lr=0.001)\n"
      ],
      "metadata": {
        "id": "BDY5u8i0-vLt"
      },
      "execution_count": 18,
      "outputs": []
    },
    {
      "cell_type": "code",
      "source": [
        "!pip install torchsummary"
      ],
      "metadata": {
        "colab": {
          "base_uri": "https://localhost:8080/"
        },
        "id": "k5I73VDI_Wdy",
        "outputId": "00c34553-d48c-4307-fcbb-6930c35e87e0"
      },
      "execution_count": 19,
      "outputs": [
        {
          "output_type": "stream",
          "name": "stdout",
          "text": [
            "Requirement already satisfied: torchsummary in /usr/local/lib/python3.10/dist-packages (1.5.1)\n"
          ]
        }
      ]
    },
    {
      "cell_type": "code",
      "source": [
        "from torchsummary import summary\n",
        "print(\"PyTorch Model Summary:\")\n",
        "summary(pytorch_model, input_size=(8,))"
      ],
      "metadata": {
        "colab": {
          "base_uri": "https://localhost:8080/"
        },
        "id": "mv_hGktV_KYw",
        "outputId": "bd0c2ef8-d8e3-4416-a171-26b683c6d8ec"
      },
      "execution_count": 20,
      "outputs": [
        {
          "output_type": "stream",
          "name": "stdout",
          "text": [
            "PyTorch Model Summary:\n",
            "----------------------------------------------------------------\n",
            "        Layer (type)               Output Shape         Param #\n",
            "================================================================\n",
            "            Linear-1                  [-1, 128]           1,152\n",
            "            Linear-2                   [-1, 64]           8,256\n",
            "            Linear-3                   [-1, 32]           2,080\n",
            "            Linear-4                    [-1, 1]              33\n",
            "================================================================\n",
            "Total params: 11,521\n",
            "Trainable params: 11,521\n",
            "Non-trainable params: 0\n",
            "----------------------------------------------------------------\n",
            "Input size (MB): 0.00\n",
            "Forward/backward pass size (MB): 0.00\n",
            "Params size (MB): 0.04\n",
            "Estimated Total Size (MB): 0.05\n",
            "----------------------------------------------------------------\n"
          ]
        }
      ]
    },
    {
      "cell_type": "code",
      "source": [
        "def train_regression(train_loader, model, criterion, optimizer, num_epochs=10):\n",
        "    model.train()\n",
        "    for epoch in range(num_epochs):\n",
        "        running_loss = 0.0\n",
        "        for inputs, targets in train_loader:\n",
        "            optimizer.zero_grad()\n",
        "            outputs = model(inputs)\n",
        "            loss = criterion(outputs, targets)\n",
        "            loss.backward() # backpropagation\n",
        "            optimizer.step()\n",
        "            running_loss += loss.item()\n",
        "        print(f\"Epoch {epoch+1}/{num_epochs}, Loss: {running_loss/len(train_loader)}\")\n",
        "\n",
        "\n",
        "train_regression(train_loader, pytorch_model, criterion, optimizer, num_epochs=10)"
      ],
      "metadata": {
        "colab": {
          "base_uri": "https://localhost:8080/"
        },
        "id": "eak1Oqfc_s-i",
        "outputId": "5d81d549-0d9f-4837-8473-0662e0530628"
      },
      "execution_count": 21,
      "outputs": [
        {
          "output_type": "stream",
          "name": "stdout",
          "text": [
            "Epoch 1/10, Loss: 0.8599338576544163\n",
            "Epoch 2/10, Loss: 0.4263979973372563\n",
            "Epoch 3/10, Loss: 0.38287146597407584\n",
            "Epoch 4/10, Loss: 0.36072703658841376\n",
            "Epoch 5/10, Loss: 0.34638784877782647\n",
            "Epoch 6/10, Loss: 0.3352428339132967\n",
            "Epoch 7/10, Loss: 0.3257586768315744\n",
            "Epoch 8/10, Loss: 0.31966408677110375\n",
            "Epoch 9/10, Loss: 0.3170776819131633\n",
            "Epoch 10/10, Loss: 0.31068805345269135\n"
          ]
        }
      ]
    },
    {
      "cell_type": "code",
      "source": [
        "def eval_regression(test_loader, model):\n",
        "    model.eval()\n",
        "    test_loss = 0.0\n",
        "    with torch.no_grad():\n",
        "        for X_batch, y_batch in test_loader:\n",
        "            output = model(X_batch)\n",
        "            loss = criterion(output, y_batch)\n",
        "            test_loss += loss.item()\n",
        "    return test_loss / len(test_loader)\n",
        "\n",
        "test_loss = eval_regression(test_loader, pytorch_model)\n",
        "print(f\"Test Loss: {test_loss}\")"
      ],
      "metadata": {
        "colab": {
          "base_uri": "https://localhost:8080/"
        },
        "id": "kdC29xCwDTDj",
        "outputId": "4b53e471-7403-4a43-c70c-b5a2091dd270"
      },
      "execution_count": 22,
      "outputs": [
        {
          "output_type": "stream",
          "name": "stdout",
          "text": [
            "Test Loss: 0.31333038738140695\n"
          ]
        }
      ]
    },
    {
      "cell_type": "code",
      "source": [
        "# Get a batch of data from the training set in PyTorch\n",
        "data_iter = iter(train_loader)\n",
        "X_batch, y_batch = next(data_iter)\n",
        "\n",
        "\n",
        "# Forward pass through the model to get predictions (continuous values for regression)\n",
        "outputs = pytorch_model(X_batch)\n",
        "\n",
        "# Print the predicted values and actual values for the batch (regression outputs)\n",
        "print(f'Predicted values (PyTorch): {outputs.squeeze().detach().numpy()}')  # Squeeze and convert to numpy for readability\n",
        "print(f'Actual values (PyTorch): {y_batch.squeeze().detach().numpy()}')  # Squeeze and convert to numpy for readability\n",
        "\n",
        "# Calculate the Mean Squared Error (MSE) for this batch\n",
        "mse_loss = nn.MSELoss()\n",
        "loss = mse_loss(outputs, y_batch)\n",
        "print(f'Mean Squared Error for this batch (PyTorch): {loss.item()}')\n"
      ],
      "metadata": {
        "colab": {
          "base_uri": "https://localhost:8080/"
        },
        "id": "13xmchQoDwia",
        "outputId": "4262ad02-252f-452a-f148-1012c5d4342e"
      },
      "execution_count": 23,
      "outputs": [
        {
          "output_type": "stream",
          "name": "stdout",
          "text": [
            "Predicted values (PyTorch): [1.1088295  0.84051496 3.8895936  2.7850163  1.658915   2.3016274\n",
            " 1.0529544  3.8609264  4.841531   1.1755544  0.6684891  2.8636742\n",
            " 2.9372616  2.995438   0.9807161  2.905274   0.7918652  0.8587705\n",
            " 1.6073065  1.9147376  2.0824952  1.2681947  2.098209   2.615275\n",
            " 3.791615   0.7804477  3.2224479  0.769968   0.7456026  0.7607118\n",
            " 1.3140193  1.544944   2.0378196  1.6322602  3.0230722  1.112746\n",
            " 2.292899   4.6399817  0.8450835  2.4085717  1.4173554  4.89384\n",
            " 1.5634086  1.2966509  1.0088897  1.3191066  1.0087738  2.1183121\n",
            " 2.7715464  0.51106143 1.9022121  4.1041665  1.4948905  1.9143329\n",
            " 1.165442   1.0201902  2.4703517  1.0381452  2.6416764  3.3157215\n",
            " 1.3181617  2.704564   2.1705852  1.805949  ]\n",
            "Actual values (PyTorch): [1.156   0.685   3.762   1.269   1.688   4.508   1.486   4.175   5.00001\n",
            " 0.602   0.696   3.179   4.646   3.019   1.567   3.889   0.342   0.927\n",
            " 2.296   5.00001 1.557   0.972   1.524   2.728   2.365   0.723   1.125\n",
            " 0.944   0.858   0.743   1.911   2.259   1.75    2.092   3.844   1.06\n",
            " 2.184   5.00001 1.167   2.583   1.371   5.00001 1.917   1.648   0.949\n",
            " 1.469   1.254   1.556   2.76    0.474   1.692   4.622   1.9     1.948\n",
            " 1.614   1.104   3.125   0.878   2.762   3.261   1.114   2.209   1.984\n",
            " 1.888  ]\n",
            "Mean Squared Error for this batch (PyTorch): 0.5286646485328674\n"
          ]
        }
      ]
    },
    {
      "cell_type": "code",
      "source": [
        "# Function to train the model and collect loss values for plotting\n",
        "def train_regression_with_curves(train_loader, test_loader, model, criterion, optimizer, epochs=20):\n",
        "    train_losses = []\n",
        "    test_losses = []\n",
        "\n",
        "    for epoch in range(epochs):\n",
        "        model.train()  # Set the model to training mode\n",
        "        running_loss = 0.0\n",
        "        for X_batch, y_batch in train_loader:\n",
        "            optimizer.zero_grad()\n",
        "            output = model(X_batch)\n",
        "            loss = criterion(output, y_batch)\n",
        "            loss.backward()\n",
        "            optimizer.step()\n",
        "            running_loss += loss.item()\n",
        "\n",
        "        # Average loss for this epoch\n",
        "        train_loss = running_loss / len(train_loader)\n",
        "        train_losses.append(train_loss)\n",
        "\n",
        "        # Evaluate on the test set after each epoch\n",
        "        test_loss = evaluate_regression(test_loader, model)\n",
        "        test_losses.append(test_loss)\n",
        "\n",
        "        print(f'Epoch [{epoch+1}/{epochs}], Train Loss: {train_loss:.4f}, Test Loss: {test_loss:.4f}')\n",
        "\n",
        "    return train_losses, test_losses\n",
        "\n",
        "# Evaluate the model on the test set\n",
        "def evaluate_regression(test_loader, model):\n",
        "    model.eval()\n",
        "    test_loss = 0.0\n",
        "    with torch.no_grad():\n",
        "        for X_batch, y_batch in test_loader:\n",
        "            output = model(X_batch)\n",
        "            loss = criterion(output, y_batch)\n",
        "            test_loss += loss.item()\n",
        "    return test_loss / len(test_loader)\n",
        "\n",
        "# Train the model and collect train/test losses\n",
        "train_losses, test_losses = train_regression_with_curves(train_loader, test_loader, pytorch_model, criterion, optimizer, epochs=50)\n",
        "\n",
        "# Plot the learning curves\n",
        "plt.figure(figsize=(10, 6))\n",
        "plt.plot(train_losses, label='Train Loss')\n",
        "plt.plot(test_losses, label='Test Loss')\n",
        "plt.xlabel('Epochs')\n",
        "plt.ylabel('Loss (MSE)')\n",
        "plt.title('Train vs Test Loss Over Epochs')\n",
        "plt.legend()\n",
        "plt.grid(True)\n",
        "plt.show()\n"
      ],
      "metadata": {
        "colab": {
          "base_uri": "https://localhost:8080/",
          "height": 1000
        },
        "id": "W6sH8YTlD8VM",
        "outputId": "d6be053d-05d9-423e-9155-3219dfa911f2"
      },
      "execution_count": 24,
      "outputs": [
        {
          "output_type": "stream",
          "name": "stdout",
          "text": [
            "Epoch [1/50], Train Loss: 0.3079, Test Loss: 0.3268\n",
            "Epoch [2/50], Train Loss: 0.3027, Test Loss: 0.3058\n",
            "Epoch [3/50], Train Loss: 0.2977, Test Loss: 0.3039\n",
            "Epoch [4/50], Train Loss: 0.2929, Test Loss: 0.3155\n",
            "Epoch [5/50], Train Loss: 0.2924, Test Loss: 0.2975\n",
            "Epoch [6/50], Train Loss: 0.2884, Test Loss: 0.3025\n",
            "Epoch [7/50], Train Loss: 0.2856, Test Loss: 0.2971\n",
            "Epoch [8/50], Train Loss: 0.2806, Test Loss: 0.2923\n",
            "Epoch [9/50], Train Loss: 0.2771, Test Loss: 0.2932\n",
            "Epoch [10/50], Train Loss: 0.2769, Test Loss: 0.3051\n",
            "Epoch [11/50], Train Loss: 0.2746, Test Loss: 0.2879\n",
            "Epoch [12/50], Train Loss: 0.2712, Test Loss: 0.2856\n",
            "Epoch [13/50], Train Loss: 0.2682, Test Loss: 0.2911\n",
            "Epoch [14/50], Train Loss: 0.2672, Test Loss: 0.2864\n",
            "Epoch [15/50], Train Loss: 0.2634, Test Loss: 0.2935\n",
            "Epoch [16/50], Train Loss: 0.2622, Test Loss: 0.2736\n",
            "Epoch [17/50], Train Loss: 0.2603, Test Loss: 0.2794\n",
            "Epoch [18/50], Train Loss: 0.2574, Test Loss: 0.2694\n",
            "Epoch [19/50], Train Loss: 0.2554, Test Loss: 0.2715\n",
            "Epoch [20/50], Train Loss: 0.2567, Test Loss: 0.2695\n",
            "Epoch [21/50], Train Loss: 0.2508, Test Loss: 0.2680\n",
            "Epoch [22/50], Train Loss: 0.2498, Test Loss: 0.2729\n",
            "Epoch [23/50], Train Loss: 0.2512, Test Loss: 0.2640\n",
            "Epoch [24/50], Train Loss: 0.2499, Test Loss: 0.2670\n",
            "Epoch [25/50], Train Loss: 0.2463, Test Loss: 0.2647\n",
            "Epoch [26/50], Train Loss: 0.2453, Test Loss: 0.2673\n",
            "Epoch [27/50], Train Loss: 0.2427, Test Loss: 0.2629\n",
            "Epoch [28/50], Train Loss: 0.2421, Test Loss: 0.2617\n",
            "Epoch [29/50], Train Loss: 0.2416, Test Loss: 0.2621\n",
            "Epoch [30/50], Train Loss: 0.2397, Test Loss: 0.2681\n",
            "Epoch [31/50], Train Loss: 0.2392, Test Loss: 0.2598\n",
            "Epoch [32/50], Train Loss: 0.2381, Test Loss: 0.2616\n",
            "Epoch [33/50], Train Loss: 0.2351, Test Loss: 0.2616\n",
            "Epoch [34/50], Train Loss: 0.2358, Test Loss: 0.2595\n",
            "Epoch [35/50], Train Loss: 0.2366, Test Loss: 0.2657\n",
            "Epoch [36/50], Train Loss: 0.2316, Test Loss: 0.2581\n",
            "Epoch [37/50], Train Loss: 0.2326, Test Loss: 0.2610\n",
            "Epoch [38/50], Train Loss: 0.2284, Test Loss: 0.2636\n",
            "Epoch [39/50], Train Loss: 0.2288, Test Loss: 0.2557\n",
            "Epoch [40/50], Train Loss: 0.2290, Test Loss: 0.2546\n",
            "Epoch [41/50], Train Loss: 0.2265, Test Loss: 0.2601\n",
            "Epoch [42/50], Train Loss: 0.2270, Test Loss: 0.2651\n",
            "Epoch [43/50], Train Loss: 0.2265, Test Loss: 0.2575\n",
            "Epoch [44/50], Train Loss: 0.2232, Test Loss: 0.2627\n",
            "Epoch [45/50], Train Loss: 0.2247, Test Loss: 0.2607\n",
            "Epoch [46/50], Train Loss: 0.2233, Test Loss: 0.2569\n",
            "Epoch [47/50], Train Loss: 0.2222, Test Loss: 0.2569\n",
            "Epoch [48/50], Train Loss: 0.2204, Test Loss: 0.2595\n",
            "Epoch [49/50], Train Loss: 0.2201, Test Loss: 0.2577\n",
            "Epoch [50/50], Train Loss: 0.2215, Test Loss: 0.2533\n"
          ]
        },
        {
          "output_type": "display_data",
          "data": {
            "text/plain": [
              "<Figure size 1000x600 with 1 Axes>"
            ],
            "image/png": "[encoded data removed]"
          },
          "metadata": {}
        }
      ]
    },
    {
      "cell_type": "markdown",
      "source": [
        "# Keras Setup for Regression (Price Prediction)\n",
        "\n",
        "## **Keras test loss: 0.2597**\n",
        "\n",
        "* batch_size = 64\n",
        "* Architecture:         \n",
        "        model_keras = Sequential()\n",
        "        model_keras.add(Dense(128, input_dim=X_train.shape[1], activation='tanh'))\n",
        "        model_keras.add(Dense(64, activation='relu'))\n",
        "        model_keras.add(Dense(32, activation='tanh'))\n",
        "        model_keras.add(Dense(1))\n",
        "\n",
        "* activation = tanh & relu\n",
        "* learning_rate = 0.001\n",
        "* epochs = 50\n"
      ],
      "metadata": {
        "id": "XtHe0BKp0Jwz"
      }
    },
    {
      "cell_type": "code",
      "source": [
        "##################################\n",
        "# Keras Setup for Regression\n",
        "##################################\n",
        "from tensorflow.keras.models import Sequential\n",
        "from tensorflow.keras.layers import Dense\n",
        "from keras.optimizers import Adam"
      ],
      "metadata": {
        "id": "t8twbwfDEf45"
      },
      "execution_count": 31,
      "outputs": []
    },
    {
      "cell_type": "code",
      "source": [
        "# Define a simple neural network for regression using Keras\n",
        "model_keras = Sequential()\n",
        "model_keras.add(Dense(128, input_dim=X_train.shape[1], activation='tanh'))\n",
        "model_keras.add(Dense(64, activation='relu'))\n",
        "model_keras.add(Dense(32, activation='tanh'))\n",
        "model_keras.add(Dense(1))  # Single output for regression\n",
        "\n",
        "\n",
        "# Compile the Keras model\n",
        "model_keras.compile(optimizer=Adam(learning_rate=0.001), loss='mean_squared_error')\n"
      ],
      "metadata": {
        "id": "lAiPTHX6En9G"
      },
      "execution_count": 82,
      "outputs": []
    },
    {
      "cell_type": "code",
      "source": [
        "# Keras model structure visualization\n",
        "print(\"Keras Model Structure:\")\n",
        "model_keras.summary()\n"
      ],
      "metadata": {
        "colab": {
          "base_uri": "https://localhost:8080/"
        },
        "id": "KTUAQF2jFK53",
        "outputId": "68792a5f-5810-4a50-c8f8-d92000c52d65"
      },
      "execution_count": 83,
      "outputs": [
        {
          "output_type": "stream",
          "name": "stdout",
          "text": [
            "Keras Model Structure:\n",
            "Model: \"sequential_8\"\n",
            "_________________________________________________________________\n",
            " Layer (type)                Output Shape              Param #   \n",
            "=================================================================\n",
            " dense_31 (Dense)            (None, 128)               1152      \n",
            "                                                                 \n",
            " dense_32 (Dense)            (None, 64)                8256      \n",
            "                                                                 \n",
            " dense_33 (Dense)            (None, 32)                2080      \n",
            "                                                                 \n",
            " dense_34 (Dense)            (None, 1)                 33        \n",
            "                                                                 \n",
            "=================================================================\n",
            "Total params: 11521 (45.00 KB)\n",
            "Trainable params: 11521 (45.00 KB)\n",
            "Non-trainable params: 0 (0.00 Byte)\n",
            "_________________________________________________________________\n"
          ]
        }
      ]
    },
    {
      "cell_type": "code",
      "source": [
        "# Train the Keras model\n",
        "history = model_keras.fit(X_train, y_train, epochs=50, batch_size=64, validation_data=(X_test, y_test))\n"
      ],
      "metadata": {
        "colab": {
          "base_uri": "https://localhost:8080/"
        },
        "id": "M4a1eu5sFOkf",
        "outputId": "c9c2b0de-c792-4c21-d3bc-37eac12758f3"
      },
      "execution_count": 84,
      "outputs": [
        {
          "output_type": "stream",
          "name": "stdout",
          "text": [
            "Epoch 1/50\n",
            "258/258 [==============================] - 1s 3ms/step - loss: 0.6124 - val_loss: 0.3951\n",
            "Epoch 2/50\n",
            "258/258 [==============================] - 1s 2ms/step - loss: 0.3640 - val_loss: 0.3523\n",
            "Epoch 3/50\n",
            "258/258 [==============================] - 1s 2ms/step - loss: 0.3368 - val_loss: 0.3369\n",
            "Epoch 4/50\n",
            "258/258 [==============================] - 1s 2ms/step - loss: 0.3198 - val_loss: 0.3337\n",
            "Epoch 5/50\n",
            "258/258 [==============================] - 1s 2ms/step - loss: 0.3113 - val_loss: 0.3174\n",
            "Epoch 6/50\n",
            "258/258 [==============================] - 1s 2ms/step - loss: 0.3052 - val_loss: 0.3087\n",
            "Epoch 7/50\n",
            "258/258 [==============================] - 1s 2ms/step - loss: 0.3015 - val_loss: 0.3092\n",
            "Epoch 8/50\n",
            "258/258 [==============================] - 1s 2ms/step - loss: 0.2982 - val_loss: 0.3164\n",
            "Epoch 9/50\n",
            "258/258 [==============================] - 1s 2ms/step - loss: 0.2938 - val_loss: 0.3172\n",
            "Epoch 10/50\n",
            "258/258 [==============================] - 1s 2ms/step - loss: 0.2929 - val_loss: 0.3007\n",
            "Epoch 11/50\n",
            "258/258 [==============================] - 1s 2ms/step - loss: 0.2901 - val_loss: 0.3121\n",
            "Epoch 12/50\n",
            "258/258 [==============================] - 1s 2ms/step - loss: 0.2855 - val_loss: 0.2953\n",
            "Epoch 13/50\n",
            "258/258 [==============================] - 1s 2ms/step - loss: 0.2840 - val_loss: 0.3026\n",
            "Epoch 14/50\n",
            "258/258 [==============================] - 1s 2ms/step - loss: 0.2806 - val_loss: 0.2890\n",
            "Epoch 15/50\n",
            "258/258 [==============================] - 1s 2ms/step - loss: 0.2790 - val_loss: 0.2995\n",
            "Epoch 16/50\n",
            "258/258 [==============================] - 1s 2ms/step - loss: 0.2748 - val_loss: 0.2906\n",
            "Epoch 17/50\n",
            "258/258 [==============================] - 1s 2ms/step - loss: 0.2767 - val_loss: 0.2921\n",
            "Epoch 18/50\n",
            "258/258 [==============================] - 1s 2ms/step - loss: 0.2720 - val_loss: 0.2936\n",
            "Epoch 19/50\n",
            "258/258 [==============================] - 1s 2ms/step - loss: 0.2735 - val_loss: 0.2934\n",
            "Epoch 20/50\n",
            "258/258 [==============================] - 1s 2ms/step - loss: 0.2660 - val_loss: 0.2855\n",
            "Epoch 21/50\n",
            "258/258 [==============================] - 1s 2ms/step - loss: 0.2659 - val_loss: 0.2777\n",
            "Epoch 22/50\n",
            "258/258 [==============================] - 1s 2ms/step - loss: 0.2630 - val_loss: 0.2846\n",
            "Epoch 23/50\n",
            "258/258 [==============================] - 1s 2ms/step - loss: 0.2636 - val_loss: 0.2870\n",
            "Epoch 24/50\n",
            "258/258 [==============================] - 1s 2ms/step - loss: 0.2591 - val_loss: 0.2739\n",
            "Epoch 25/50\n",
            "258/258 [==============================] - 1s 2ms/step - loss: 0.2581 - val_loss: 0.2761\n",
            "Epoch 26/50\n",
            "258/258 [==============================] - 1s 2ms/step - loss: 0.2578 - val_loss: 0.2718\n",
            "Epoch 27/50\n",
            "258/258 [==============================] - 1s 2ms/step - loss: 0.2565 - val_loss: 0.2741\n",
            "Epoch 28/50\n",
            "258/258 [==============================] - 1s 2ms/step - loss: 0.2536 - val_loss: 0.2919\n",
            "Epoch 29/50\n",
            "258/258 [==============================] - 1s 2ms/step - loss: 0.2547 - val_loss: 0.2689\n",
            "Epoch 30/50\n",
            "258/258 [==============================] - 1s 2ms/step - loss: 0.2502 - val_loss: 0.2747\n",
            "Epoch 31/50\n",
            "258/258 [==============================] - 1s 2ms/step - loss: 0.2515 - val_loss: 0.2704\n",
            "Epoch 32/50\n",
            "258/258 [==============================] - 1s 2ms/step - loss: 0.2497 - val_loss: 0.2764\n",
            "Epoch 33/50\n",
            "258/258 [==============================] - 1s 2ms/step - loss: 0.2506 - val_loss: 0.2778\n",
            "Epoch 34/50\n",
            "258/258 [==============================] - 1s 2ms/step - loss: 0.2458 - val_loss: 0.2731\n",
            "Epoch 35/50\n",
            "258/258 [==============================] - 1s 2ms/step - loss: 0.2480 - val_loss: 0.2710\n",
            "Epoch 36/50\n",
            "258/258 [==============================] - 1s 2ms/step - loss: 0.2466 - val_loss: 0.2724\n",
            "Epoch 37/50\n",
            "258/258 [==============================] - 1s 2ms/step - loss: 0.2428 - val_loss: 0.2667\n",
            "Epoch 38/50\n",
            "258/258 [==============================] - 1s 2ms/step - loss: 0.2426 - val_loss: 0.2645\n",
            "Epoch 39/50\n",
            "258/258 [==============================] - 1s 2ms/step - loss: 0.2438 - val_loss: 0.2617\n",
            "Epoch 40/50\n",
            "258/258 [==============================] - 1s 2ms/step - loss: 0.2411 - val_loss: 0.2634\n",
            "Epoch 41/50\n",
            "258/258 [==============================] - 1s 2ms/step - loss: 0.2424 - val_loss: 0.2651\n",
            "Epoch 42/50\n",
            "258/258 [==============================] - 1s 2ms/step - loss: 0.2401 - val_loss: 0.2632\n",
            "Epoch 43/50\n",
            "258/258 [==============================] - 1s 2ms/step - loss: 0.2417 - val_loss: 0.2621\n",
            "Epoch 44/50\n",
            "258/258 [==============================] - 1s 2ms/step - loss: 0.2391 - val_loss: 0.2706\n",
            "Epoch 45/50\n",
            "258/258 [==============================] - 1s 2ms/step - loss: 0.2378 - val_loss: 0.2651\n",
            "Epoch 46/50\n",
            "258/258 [==============================] - 1s 2ms/step - loss: 0.2370 - val_loss: 0.2731\n",
            "Epoch 47/50\n",
            "258/258 [==============================] - 1s 2ms/step - loss: 0.2369 - val_loss: 0.2712\n",
            "Epoch 48/50\n",
            "258/258 [==============================] - 1s 2ms/step - loss: 0.2383 - val_loss: 0.2607\n",
            "Epoch 49/50\n",
            "258/258 [==============================] - 1s 2ms/step - loss: 0.2330 - val_loss: 0.2659\n",
            "Epoch 50/50\n",
            "258/258 [==============================] - 1s 2ms/step - loss: 0.2333 - val_loss: 0.2597\n"
          ]
        }
      ]
    },
    {
      "cell_type": "code",
      "source": [
        "# Evaluate the Keras model on a single batch\n",
        "X_batch = X_train[:32]  # First 32 samples\n",
        "y_batch = y_train[:32]\n",
        "y_pred = model_keras.predict(X_batch)\n",
        "\n",
        "# Display predicted and actual values in Keras\n",
        "print(f'Predicted values (Keras): {y_pred.flatten()}')\n",
        "print(f'Actual values (Keras): {y_batch.values.flatten()}')\n"
      ],
      "metadata": {
        "colab": {
          "base_uri": "https://localhost:8080/"
        },
        "id": "APRwXzm4GAs4",
        "outputId": "7f6f6bfb-3eb7-4e93-deb2-7e1a7f669913"
      },
      "execution_count": 85,
      "outputs": [
        {
          "output_type": "stream",
          "name": "stdout",
          "text": [
            "1/1 [==============================] - 0s 59ms/step\n",
            "Predicted values (Keras): [1.2803309 3.7158215 2.163614  0.9585116 1.2181013 2.8841162 1.5870751\n",
            " 4.692988  1.5780079 2.890342  2.4705129 1.8892026 1.2034614 1.2599688\n",
            " 2.2495618 1.6307592 1.9896274 1.6457154 1.8293906 1.3349024 0.9013094\n",
            " 4.9726224 1.1360565 1.2193415 0.7437357 3.1722186 0.6909579 1.6387534\n",
            " 2.223084  1.2623167 1.5356038 1.273222 ]\n",
            "Actual values (Keras): [1.03    3.821   1.726   0.934   0.965   2.648   1.573   5.00001 1.398\n",
            " 3.156   2.319   1.594   0.96    1.875   2.299   1.177   1.696   1.308\n",
            " 1.574   0.941   0.727   5.00001 0.958   0.975   0.788   2.92    0.425\n",
            " 1.875   2.182   0.875   1.463   1.374  ]\n"
          ]
        }
      ]
    },
    {
      "cell_type": "code",
      "source": [
        "# Step 3: Plot learning curves\n",
        "plt.figure(figsize=(10, 6))\n",
        "plt.plot(history.history['loss'], label='Train Loss')\n",
        "plt.plot(history.history['val_loss'], label='Validation Loss')\n",
        "plt.xlabel('Epochs')\n",
        "plt.ylabel('Loss (MSE)')\n",
        "plt.title('Train vs Validation Loss Over Epochs')\n",
        "plt.legend()\n",
        "plt.grid(True)\n",
        "plt.show()\n"
      ],
      "metadata": {
        "colab": {
          "base_uri": "https://localhost:8080/",
          "height": 564
        },
        "id": "k6iye2U3FYIO",
        "outputId": "142692e0-99c3-44a7-91d8-c4211a2f80ff"
      },
      "execution_count": 86,
      "outputs": [
        {
          "output_type": "display_data",
          "data": {
            "text/plain": [
              "<Figure size 1000x600 with 1 Axes>"
            ],
            "image/png": "[encoded data removed]"
          },
          "metadata": {}
        }
      ]
    }
  ],
  "metadata": {
    "colab": {
      "provenance": [],
      "gpuType": "V28"
    },
    "kernelspec": {
      "display_name": "Python 3",
      "name": "python3"
    },
    "accelerator": "TPU"
  },
  "nbformat": 4,
  "nbformat_minor": 0
}