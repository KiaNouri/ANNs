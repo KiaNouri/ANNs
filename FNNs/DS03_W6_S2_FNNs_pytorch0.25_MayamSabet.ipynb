{
  "cells": [
    {
      "cell_type": "code",
      "execution_count": 252,
      "metadata": {
        "id": "lIYdn1woOS1n"
      },
      "outputs": [],
      "source": [
        "# basic packages\n",
        "import pandas as pd\n",
        "import matplotlib.pyplot as plt\n",
        "from sklearn.datasets import fetch_california_housing\n",
        "from sklearn.model_selection import train_test_split\n",
        "from sklearn.preprocessing import StandardScaler\n",
        "from sklearn.metrics import mean_squared_error"
      ]
    },
    {
      "cell_type": "code",
      "source": [
        "data = fetch_california_housing()\n",
        "X = pd.DataFrame(data.data, columns=data.feature_names)\n",
        "y = pd.DataFrame(data.target,columns=['target'])\n",
        "\n",
        "X.head()"
      ],
      "metadata": {
        "id": "1ujUtAbvP_Ei",
        "outputId": "a3eda886-0708-4379-c956-2e4cbddcc910",
        "colab": {
          "base_uri": "https://localhost:8080/",
          "height": 206
        }
      },
      "execution_count": 253,
      "outputs": [
        {
          "output_type": "execute_result",
          "data": {
            "text/plain": [
              "   MedInc  HouseAge  AveRooms  AveBedrms  Population  AveOccup  Latitude  Longitude\n",
              "0  8.3252      41.0  6.984127   1.023810       322.0  2.555556     37.88    -122.23\n",
              "1  8.3014      21.0  6.238137   0.971880      2401.0  2.109842     37.86    -122.22\n",
              "2  7.2574      52.0  8.288136   1.073446       496.0  2.802260     37.85    -122.24\n",
              "3  5.6431      52.0  5.817352   1.073059       558.0  2.547945     37.85    -122.25\n",
              "4  3.8462      52.0  6.281853   1.081081       565.0  2.181467     37.85    -122.25"
            ],
            "text/html": [
              "\n",
              "  <div id=\"df-d521d7bf-9293-463c-9f95-c402b1452aa7\" class=\"colab-df-container\">\n",
              "    <div>\n",
              "<style scoped>\n",
              "    .dataframe tbody tr th:only-of-type {\n",
              "        vertical-align: middle;\n",
              "    }\n",
              "\n",
              "    .dataframe tbody tr th {\n",
              "        vertical-align: top;\n",
              "    }\n",
              "\n",
              "    .dataframe thead th {\n",
              "        text-align: right;\n",
              "    }\n",
              "</style>\n",
              "<table border=\"1\" class=\"dataframe\">\n",
              "  <thead>\n",
              "    <tr style=\"text-align: right;\">\n",
              "      <th></th>\n",
              "      <th>MedInc</th>\n",
              "      <th>HouseAge</th>\n",
              "      <th>AveRooms</th>\n",
              "      <th>AveBedrms</th>\n",
              "      <th>Population</th>\n",
              "      <th>AveOccup</th>\n",
              "      <th>Latitude</th>\n",
              "      <th>Longitude</th>\n",
              "    </tr>\n",
              "  </thead>\n",
              "  <tbody>\n",
              "    <tr>\n",
              "      <th>0</th>\n",
              "      <td>8.3252</td>\n",
              "      <td>41.0</td>\n",
              "      <td>6.984127</td>\n",
              "      <td>1.023810</td>\n",
              "      <td>322.0</td>\n",
              "      <td>2.555556</td>\n",
              "      <td>37.88</td>\n",
              "      <td>-122.23</td>\n",
              "    </tr>\n",
              "    <tr>\n",
              "      <th>1</th>\n",
              "      <td>8.3014</td>\n",
              "      <td>21.0</td>\n",
              "      <td>6.238137</td>\n",
              "      <td>0.971880</td>\n",
              "      <td>2401.0</td>\n",
              "      <td>2.109842</td>\n",
              "      <td>37.86</td>\n",
              "      <td>-122.22</td>\n",
              "    </tr>\n",
              "    <tr>\n",
              "      <th>2</th>\n",
              "      <td>7.2574</td>\n",
              "      <td>52.0</td>\n",
              "      <td>8.288136</td>\n",
              "      <td>1.073446</td>\n",
              "      <td>496.0</td>\n",
              "      <td>2.802260</td>\n",
              "      <td>37.85</td>\n",
              "      <td>-122.24</td>\n",
              "    </tr>\n",
              "    <tr>\n",
              "      <th>3</th>\n",
              "      <td>5.6431</td>\n",
              "      <td>52.0</td>\n",
              "      <td>5.817352</td>\n",
              "      <td>1.073059</td>\n",
              "      <td>558.0</td>\n",
              "      <td>2.547945</td>\n",
              "      <td>37.85</td>\n",
              "      <td>-122.25</td>\n",
              "    </tr>\n",
              "    <tr>\n",
              "      <th>4</th>\n",
              "      <td>3.8462</td>\n",
              "      <td>52.0</td>\n",
              "      <td>6.281853</td>\n",
              "      <td>1.081081</td>\n",
              "      <td>565.0</td>\n",
              "      <td>2.181467</td>\n",
              "      <td>37.85</td>\n",
              "      <td>-122.25</td>\n",
              "    </tr>\n",
              "  </tbody>\n",
              "</table>\n",
              "</div>\n",
              "    <div class=\"colab-df-buttons\">\n",
              "\n",
              "  <div class=\"colab-df-container\">\n",
              "    <button class=\"colab-df-convert\" onclick=\"convertToInteractive('df-d521d7bf-9293-463c-9f95-c402b1452aa7')\"\n",
              "            title=\"Convert this dataframe to an interactive table.\"\n",
              "            style=\"display:none;\">\n",
              "\n",
              "  <svg xmlns=\"http://www.w3.org/2000/svg\" height=\"24px\" viewBox=\"0 -960 960 960\">\n",
              "    <path d=\"M120-120v-720h720v720H120Zm60-500h600v-160H180v160Zm220 220h160v-160H400v160Zm0 220h160v-160H400v160ZM180-400h160v-160H180v160Zm440 0h160v-160H620v160ZM180-180h160v-160H180v160Zm440 0h160v-160H620v160Z\"/>\n",
              "  </svg>\n",
              "    </button>\n",
              "\n",
              "  <style>\n",
              "    .colab-df-container {\n",
              "      display:flex;\n",
              "      gap: 12px;\n",
              "    }\n",
              "\n",
              "    .colab-df-convert {\n",
              "      background-color: #E8F0FE;\n",
              "      border: none;\n",
              "      border-radius: 50%;\n",
              "      cursor: pointer;\n",
              "      display: none;\n",
              "      fill: #1967D2;\n",
              "      height: 32px;\n",
              "      padding: 0 0 0 0;\n",
              "      width: 32px;\n",
              "    }\n",
              "\n",
              "    .colab-df-convert:hover {\n",
              "      background-color: #E2EBFA;\n",
              "      box-shadow: 0px 1px 2px rgba(60, 64, 67, 0.3), 0px 1px 3px 1px rgba(60, 64, 67, 0.15);\n",
              "      fill: #174EA6;\n",
              "    }\n",
              "\n",
              "    .colab-df-buttons div {\n",
              "      margin-bottom: 4px;\n",
              "    }\n",
              "\n",
              "    [theme=dark] .colab-df-convert {\n",
              "      background-color: #3B4455;\n",
              "      fill: #D2E3FC;\n",
              "    }\n",
              "\n",
              "    [theme=dark] .colab-df-convert:hover {\n",
              "      background-color: #434B5C;\n",
              "      box-shadow: 0px 1px 3px 1px rgba(0, 0, 0, 0.15);\n",
              "      filter: drop-shadow(0px 1px 2px rgba(0, 0, 0, 0.3));\n",
              "      fill: #FFFFFF;\n",
              "    }\n",
              "  </style>\n",
              "\n",
              "    <script>\n",
              "      const buttonEl =\n",
              "        document.querySelector('#df-d521d7bf-9293-463c-9f95-c402b1452aa7 button.colab-df-convert');\n",
              "      buttonEl.style.display =\n",
              "        google.colab.kernel.accessAllowed ? 'block' : 'none';\n",
              "\n",
              "      async function convertToInteractive(key) {\n",
              "        const element = document.querySelector('#df-d521d7bf-9293-463c-9f95-c402b1452aa7');\n",
              "        const dataTable =\n",
              "          await google.colab.kernel.invokeFunction('convertToInteractive',\n",
              "                                                    [key], {});\n",
              "        if (!dataTable) return;\n",
              "\n",
              "        const docLinkHtml = 'Like what you see? Visit the ' +\n",
              "          '<a target=\"_blank\" href=https://colab.research.google.com/notebooks/data_table.ipynb>data table notebook</a>'\n",
              "          + ' to learn more about interactive tables.';\n",
              "        element.innerHTML = '';\n",
              "        dataTable['output_type'] = 'display_data';\n",
              "        await google.colab.output.renderOutput(dataTable, element);\n",
              "        const docLink = document.createElement('div');\n",
              "        docLink.innerHTML = docLinkHtml;\n",
              "        element.appendChild(docLink);\n",
              "      }\n",
              "    </script>\n",
              "  </div>\n",
              "\n",
              "\n",
              "<div id=\"df-25fa8a14-617b-492c-b6ee-e0601eb6cfe2\">\n",
              "  <button class=\"colab-df-quickchart\" onclick=\"quickchart('df-25fa8a14-617b-492c-b6ee-e0601eb6cfe2')\"\n",
              "            title=\"Suggest charts\"\n",
              "            style=\"display:none;\">\n",
              "\n",
              "<svg xmlns=\"http://www.w3.org/2000/svg\" height=\"24px\"viewBox=\"0 0 24 24\"\n",
              "     width=\"24px\">\n",
              "    <g>\n",
              "        <path d=\"M19 3H5c-1.1 0-2 .9-2 2v14c0 1.1.9 2 2 2h14c1.1 0 2-.9 2-2V5c0-1.1-.9-2-2-2zM9 17H7v-7h2v7zm4 0h-2V7h2v10zm4 0h-2v-4h2v4z\"/>\n",
              "    </g>\n",
              "</svg>\n",
              "  </button>\n",
              "\n",
              "<style>\n",
              "  .colab-df-quickchart {\n",
              "      --bg-color: #E8F0FE;\n",
              "      --fill-color: #1967D2;\n",
              "      --hover-bg-color: #E2EBFA;\n",
              "      --hover-fill-color: #174EA6;\n",
              "      --disabled-fill-color: #AAA;\n",
              "      --disabled-bg-color: #DDD;\n",
              "  }\n",
              "\n",
              "  [theme=dark] .colab-df-quickchart {\n",
              "      --bg-color: #3B4455;\n",
              "      --fill-color: #D2E3FC;\n",
              "      --hover-bg-color: #434B5C;\n",
              "      --hover-fill-color: #FFFFFF;\n",
              "      --disabled-bg-color: #3B4455;\n",
              "      --disabled-fill-color: #666;\n",
              "  }\n",
              "\n",
              "  .colab-df-quickchart {\n",
              "    background-color: var(--bg-color);\n",
              "    border: none;\n",
              "    border-radius: 50%;\n",
              "    cursor: pointer;\n",
              "    display: none;\n",
              "    fill: var(--fill-color);\n",
              "    height: 32px;\n",
              "    padding: 0;\n",
              "    width: 32px;\n",
              "  }\n",
              "\n",
              "  .colab-df-quickchart:hover {\n",
              "    background-color: var(--hover-bg-color);\n",
              "    box-shadow: 0 1px 2px rgba(60, 64, 67, 0.3), 0 1px 3px 1px rgba(60, 64, 67, 0.15);\n",
              "    fill: var(--button-hover-fill-color);\n",
              "  }\n",
              "\n",
              "  .colab-df-quickchart-complete:disabled,\n",
              "  .colab-df-quickchart-complete:disabled:hover {\n",
              "    background-color: var(--disabled-bg-color);\n",
              "    fill: var(--disabled-fill-color);\n",
              "    box-shadow: none;\n",
              "  }\n",
              "\n",
              "  .colab-df-spinner {\n",
              "    border: 2px solid var(--fill-color);\n",
              "    border-color: transparent;\n",
              "    border-bottom-color: var(--fill-color);\n",
              "    animation:\n",
              "      spin 1s steps(1) infinite;\n",
              "  }\n",
              "\n",
              "  @keyframes spin {\n",
              "    0% {\n",
              "      border-color: transparent;\n",
              "      border-bottom-color: var(--fill-color);\n",
              "      border-left-color: var(--fill-color);\n",
              "    }\n",
              "    20% {\n",
              "      border-color: transparent;\n",
              "      border-left-color: var(--fill-color);\n",
              "      border-top-color: var(--fill-color);\n",
              "    }\n",
              "    30% {\n",
              "      border-color: transparent;\n",
              "      border-left-color: var(--fill-color);\n",
              "      border-top-color: var(--fill-color);\n",
              "      border-right-color: var(--fill-color);\n",
              "    }\n",
              "    40% {\n",
              "      border-color: transparent;\n",
              "      border-right-color: var(--fill-color);\n",
              "      border-top-color: var(--fill-color);\n",
              "    }\n",
              "    60% {\n",
              "      border-color: transparent;\n",
              "      border-right-color: var(--fill-color);\n",
              "    }\n",
              "    80% {\n",
              "      border-color: transparent;\n",
              "      border-right-color: var(--fill-color);\n",
              "      border-bottom-color: var(--fill-color);\n",
              "    }\n",
              "    90% {\n",
              "      border-color: transparent;\n",
              "      border-bottom-color: var(--fill-color);\n",
              "    }\n",
              "  }\n",
              "</style>\n",
              "\n",
              "  <script>\n",
              "    async function quickchart(key) {\n",
              "      const quickchartButtonEl =\n",
              "        document.querySelector('#' + key + ' button');\n",
              "      quickchartButtonEl.disabled = true;  // To prevent multiple clicks.\n",
              "      quickchartButtonEl.classList.add('colab-df-spinner');\n",
              "      try {\n",
              "        const charts = await google.colab.kernel.invokeFunction(\n",
              "            'suggestCharts', [key], {});\n",
              "      } catch (error) {\n",
              "        console.error('Error during call to suggestCharts:', error);\n",
              "      }\n",
              "      quickchartButtonEl.classList.remove('colab-df-spinner');\n",
              "      quickchartButtonEl.classList.add('colab-df-quickchart-complete');\n",
              "    }\n",
              "    (() => {\n",
              "      let quickchartButtonEl =\n",
              "        document.querySelector('#df-25fa8a14-617b-492c-b6ee-e0601eb6cfe2 button');\n",
              "      quickchartButtonEl.style.display =\n",
              "        google.colab.kernel.accessAllowed ? 'block' : 'none';\n",
              "    })();\n",
              "  </script>\n",
              "</div>\n",
              "\n",
              "    </div>\n",
              "  </div>\n"
            ],
            "application/vnd.google.colaboratory.intrinsic+json": {
              "type": "dataframe",
              "variable_name": "X",
              "summary": "{\n  \"name\": \"X\",\n  \"rows\": 20640,\n  \"fields\": [\n    {\n      \"column\": \"MedInc\",\n      \"properties\": {\n        \"dtype\": \"number\",\n        \"std\": 1.8998217179452688,\n        \"min\": 0.4999,\n        \"max\": 15.0001,\n        \"num_unique_values\": 12928,\n        \"samples\": [\n          5.0286,\n          2.0433,\n          6.1228\n        ],\n        \"semantic_type\": \"\",\n        \"description\": \"\"\n      }\n    },\n    {\n      \"column\": \"HouseAge\",\n      \"properties\": {\n        \"dtype\": \"number\",\n        \"std\": 12.58555761211165,\n        \"min\": 1.0,\n        \"max\": 52.0,\n        \"num_unique_values\": 52,\n        \"samples\": [\n          35.0,\n          25.0,\n          7.0\n        ],\n        \"semantic_type\": \"\",\n        \"description\": \"\"\n      }\n    },\n    {\n      \"column\": \"AveRooms\",\n      \"properties\": {\n        \"dtype\": \"number\",\n        \"std\": 2.4741731394243187,\n        \"min\": 0.8461538461538461,\n        \"max\": 141.9090909090909,\n        \"num_unique_values\": 19392,\n        \"samples\": [\n          6.111269614835948,\n          5.912820512820513,\n          5.7924528301886795\n        ],\n        \"semantic_type\": \"\",\n        \"description\": \"\"\n      }\n    },\n    {\n      \"column\": \"AveBedrms\",\n      \"properties\": {\n        \"dtype\": \"number\",\n        \"std\": 0.473910856795466,\n        \"min\": 0.3333333333333333,\n        \"max\": 34.06666666666667,\n        \"num_unique_values\": 14233,\n        \"samples\": [\n          0.9906542056074766,\n          1.112099644128114,\n          1.0398230088495575\n        ],\n        \"semantic_type\": \"\",\n        \"description\": \"\"\n      }\n    },\n    {\n      \"column\": \"Population\",\n      \"properties\": {\n        \"dtype\": \"number\",\n        \"std\": 1132.462121765341,\n        \"min\": 3.0,\n        \"max\": 35682.0,\n        \"num_unique_values\": 3888,\n        \"samples\": [\n          4169.0,\n          636.0,\n          3367.0\n        ],\n        \"semantic_type\": \"\",\n        \"description\": \"\"\n      }\n    },\n    {\n      \"column\": \"AveOccup\",\n      \"properties\": {\n        \"dtype\": \"number\",\n        \"std\": 10.386049562213618,\n        \"min\": 0.6923076923076923,\n        \"max\": 1243.3333333333333,\n        \"num_unique_values\": 18841,\n        \"samples\": [\n          2.6939799331103678,\n          3.559375,\n          3.297082228116711\n        ],\n        \"semantic_type\": \"\",\n        \"description\": \"\"\n      }\n    },\n    {\n      \"column\": \"Latitude\",\n      \"properties\": {\n        \"dtype\": \"number\",\n        \"std\": 2.1359523974571153,\n        \"min\": 32.54,\n        \"max\": 41.95,\n        \"num_unique_values\": 862,\n        \"samples\": [\n          33.7,\n          34.41,\n          38.24\n        ],\n        \"semantic_type\": \"\",\n        \"description\": \"\"\n      }\n    },\n    {\n      \"column\": \"Longitude\",\n      \"properties\": {\n        \"dtype\": \"number\",\n        \"std\": 2.0035317235025882,\n        \"min\": -124.35,\n        \"max\": -114.31,\n        \"num_unique_values\": 844,\n        \"samples\": [\n          -118.63,\n          -119.86,\n          -121.26\n        ],\n        \"semantic_type\": \"\",\n        \"description\": \"\"\n      }\n    }\n  ]\n}"
            }
          },
          "metadata": {},
          "execution_count": 253
        }
      ]
    },
    {
      "cell_type": "code",
      "source": [
        "X.shape"
      ],
      "metadata": {
        "id": "lJNcucj-Q8he",
        "outputId": "cac1da24-b0f9-40ea-cb9a-5649f5190d07",
        "colab": {
          "base_uri": "https://localhost:8080/"
        }
      },
      "execution_count": 254,
      "outputs": [
        {
          "output_type": "execute_result",
          "data": {
            "text/plain": [
              "(20640, 8)"
            ]
          },
          "metadata": {},
          "execution_count": 254
        }
      ]
    },
    {
      "cell_type": "code",
      "source": [
        "# Split the dataset into training and testing sets\n",
        "X_train, X_test, y_train, y_test = train_test_split(X, y, test_size=0.2, random_state=42)\n",
        "\n",
        "# Standardize the features (common preprocessing step)\n",
        "scaler = StandardScaler()\n",
        "scaler.fit(X_train)\n",
        "X_train = scaler.transform(X_train)\n",
        "X_test = scaler.transform(X_test)\n"
      ],
      "metadata": {
        "id": "qJpSZcpPRA26"
      },
      "execution_count": 255,
      "outputs": []
    },
    {
      "cell_type": "code",
      "source": [
        "import torch\n",
        "import torch.nn as nn\n",
        "import torch.optim as optim\n",
        "from torch.utils.data import DataLoader, TensorDataset\n"
      ],
      "metadata": {
        "id": "UTgeS-eyRnuZ"
      },
      "execution_count": 256,
      "outputs": []
    },
    {
      "cell_type": "code",
      "source": [
        "# Convert data to PyTorch tensors (backend setup)\n",
        "X_train_tensor = torch.tensor(X_train, dtype=torch.float32)\n",
        "y_train_tensor = torch.tensor(y_train.values, dtype=torch.float32)\n",
        "X_test_tensor = torch.tensor(X_test, dtype=torch.float32)\n",
        "y_test_tensor = torch.tensor(y_test.values, dtype=torch.float32)\n",
        "\n",
        "# Create DataLoader for batching\n",
        "train_loader = DataLoader(TensorDataset(X_train_tensor,y_train_tensor), batch_size=64, shuffle=True)\n",
        "test_loader = DataLoader(TensorDataset(X_test_tensor,y_test_tensor), batch_size=64, shuffle=False)"
      ],
      "metadata": {
        "id": "Z2LnLWHJXDKP"
      },
      "execution_count": 257,
      "outputs": []
    },
    {
      "cell_type": "code",
      "source": [
        "# Create the model\n",
        "class RegressionNN(nn.Module):\n",
        "    def __init__(self, input_size=8):\n",
        "        super(RegressionNN, self).__init__()\n",
        "        self.fc1 = nn.Linear(input_size, 128)\n",
        "        self.fc2 = nn.Linear(128, 64)\n",
        "        self.fc3 = nn.Linear(64, 32)\n",
        "        self.fc4 = nn.Linear(32, 1) # 1 output for house value prediction\n",
        "\n",
        "        #self.leaky_relu = nn.LeakyReLU(negative_slope=0.01)\n",
        "\n",
        "    def forward(self, x):\n",
        "      # functional API\n",
        "        x = torch.relu(self.fc1(x))\n",
        "        x = torch.relu(self.fc2(x))\n",
        "        x = torch.relu(self.fc3(x))\n",
        "        x = self.fc4(x)\n",
        "        return x"
      ],
      "metadata": {
        "id": "cJrPzDeQYPK3"
      },
      "execution_count": 258,
      "outputs": []
    },
    {
      "cell_type": "code",
      "source": [
        "# Initialize the model, loss function, and optimizer\n",
        "pytorch_model = RegressionNN()\n",
        "\n",
        "criterion = nn.MSELoss()\n",
        "optimizer = optim.Adam(pytorch_model.parameters(), lr=0.001)"
      ],
      "metadata": {
        "id": "Smfoa95CYWIu"
      },
      "execution_count": 260,
      "outputs": []
    },
    {
      "cell_type": "code",
      "source": [
        "!pip install torchsummary"
      ],
      "metadata": {
        "id": "6e-9RU1UXItg",
        "outputId": "14e26c82-265a-4c4c-f481-69b7ddf40d97",
        "colab": {
          "base_uri": "https://localhost:8080/"
        }
      },
      "execution_count": 261,
      "outputs": [
        {
          "output_type": "stream",
          "name": "stdout",
          "text": [
            "Requirement already satisfied: torchsummary in /usr/local/lib/python3.10/dist-packages (1.5.1)\n"
          ]
        }
      ]
    },
    {
      "cell_type": "code",
      "source": [
        "from torchsummary import summary\n",
        "print(\"PyTorch Model Summary:\")\n",
        "summary(pytorch_model, input_size=(8,))"
      ],
      "metadata": {
        "id": "cl2BniPBYekB",
        "outputId": "093538d5-633a-4100-97e4-ae91c7b6f634",
        "colab": {
          "base_uri": "https://localhost:8080/"
        }
      },
      "execution_count": 262,
      "outputs": [
        {
          "output_type": "stream",
          "name": "stdout",
          "text": [
            "PyTorch Model Summary:\n",
            "----------------------------------------------------------------\n",
            "        Layer (type)               Output Shape         Param #\n",
            "================================================================\n",
            "            Linear-1                  [-1, 128]           1,152\n",
            "            Linear-2                   [-1, 64]           8,256\n",
            "            Linear-3                   [-1, 32]           2,080\n",
            "            Linear-4                    [-1, 1]              33\n",
            "================================================================\n",
            "Total params: 11,521\n",
            "Trainable params: 11,521\n",
            "Non-trainable params: 0\n",
            "----------------------------------------------------------------\n",
            "Input size (MB): 0.00\n",
            "Forward/backward pass size (MB): 0.00\n",
            "Params size (MB): 0.04\n",
            "Estimated Total Size (MB): 0.05\n",
            "----------------------------------------------------------------\n"
          ]
        }
      ]
    },
    {
      "cell_type": "code",
      "source": [
        "def train_regression(train_loader, model, criterion, optimizer, num_epochs=40):\n",
        "    model.train()\n",
        "    for epoch in range(num_epochs):\n",
        "        running_loss = 0.0\n",
        "        for inputs, targets in train_loader:\n",
        "            optimizer.zero_grad()\n",
        "            outputs = model(inputs)\n",
        "            loss = criterion(outputs, targets)\n",
        "            loss.backward() # backpropagation\n",
        "            optimizer.step()\n",
        "            running_loss += loss.item()\n",
        "        print(f\"Epoch {epoch+1}/{num_epochs}, Loss: {running_loss/len(train_loader)}\")\n",
        "\n",
        "\n",
        "train_regression(train_loader, pytorch_model, criterion, optimizer, num_epochs=40)"
      ],
      "metadata": {
        "id": "-y-xXj0eYksv",
        "outputId": "70e9a1f2-4c77-4fda-990c-2803ac689d03",
        "colab": {
          "base_uri": "https://localhost:8080/"
        }
      },
      "execution_count": 263,
      "outputs": [
        {
          "output_type": "stream",
          "name": "stdout",
          "text": [
            "Epoch 1/40, Loss: 1.1107847408730855\n",
            "Epoch 2/40, Loss: 0.422645375825638\n",
            "Epoch 3/40, Loss: 0.3790915569709253\n",
            "Epoch 4/40, Loss: 0.3655375875243845\n",
            "Epoch 5/40, Loss: 0.34685330422118654\n",
            "Epoch 6/40, Loss: 0.3354756755306739\n",
            "Epoch 7/40, Loss: 0.33000961997250255\n",
            "Epoch 8/40, Loss: 0.3153681112236755\n",
            "Epoch 9/40, Loss: 0.3098303629157617\n",
            "Epoch 10/40, Loss: 0.3034360319260479\n",
            "Epoch 11/40, Loss: 0.29719149997068006\n",
            "Epoch 12/40, Loss: 0.29477946835663893\n",
            "Epoch 13/40, Loss: 0.2906342560584231\n",
            "Epoch 14/40, Loss: 0.29065179512944334\n",
            "Epoch 15/40, Loss: 0.29245401399080145\n",
            "Epoch 16/40, Loss: 0.28790831528315247\n",
            "Epoch 17/40, Loss: 0.28149777954054434\n",
            "Epoch 18/40, Loss: 0.28147558631129965\n",
            "Epoch 19/40, Loss: 0.278370016102874\n",
            "Epoch 20/40, Loss: 0.2737439398386682\n",
            "Epoch 21/40, Loss: 0.27608314303811204\n",
            "Epoch 22/40, Loss: 0.2730555274170037\n",
            "Epoch 23/40, Loss: 0.2744045842929866\n",
            "Epoch 24/40, Loss: 0.27176815300255786\n",
            "Epoch 25/40, Loss: 0.26821805247964786\n",
            "Epoch 26/40, Loss: 0.2697240315204443\n",
            "Epoch 27/40, Loss: 0.2694453323303267\n",
            "Epoch 28/40, Loss: 0.26377355864690255\n",
            "Epoch 29/40, Loss: 0.2628437931858754\n",
            "Epoch 30/40, Loss: 0.2637861453343269\n",
            "Epoch 31/40, Loss: 0.2616280824696833\n",
            "Epoch 32/40, Loss: 0.2631365129825219\n",
            "Epoch 33/40, Loss: 0.260172165121681\n",
            "Epoch 34/40, Loss: 0.26122622755031255\n",
            "Epoch 35/40, Loss: 0.2571338617582192\n",
            "Epoch 36/40, Loss: 0.25763457869143447\n",
            "Epoch 37/40, Loss: 0.25738869618999866\n",
            "Epoch 38/40, Loss: 0.2550954830565656\n",
            "Epoch 39/40, Loss: 0.2531793681514818\n",
            "Epoch 40/40, Loss: 0.25340140382795373\n"
          ]
        }
      ]
    },
    {
      "cell_type": "code",
      "source": [
        "def eval_regression(test_loader, model):\n",
        "    model.eval()\n",
        "    test_loss = 0.0\n",
        "    with torch.no_grad():\n",
        "        for X_batch, y_batch in test_loader:\n",
        "            output = model(X_batch)\n",
        "            loss = criterion(output, y_batch)\n",
        "            test_loss += loss.item()\n",
        "    return test_loss / len(test_loader)\n",
        "\n",
        "test_loss = eval_regression(test_loader, pytorch_model)\n",
        "print(f\"Test Loss: {test_loss}\")"
      ],
      "metadata": {
        "id": "NWiy4DiwZlgS",
        "outputId": "9976ea80-af9e-48f1-83a4-7103c8fc30f3",
        "colab": {
          "base_uri": "https://localhost:8080/"
        }
      },
      "execution_count": 264,
      "outputs": [
        {
          "output_type": "stream",
          "name": "stdout",
          "text": [
            "Test Loss: 0.27853157291045555\n"
          ]
        }
      ]
    },
    {
      "cell_type": "code",
      "source": [
        "# Get a batch of data from the training set in PyTorch\n",
        "data_iter = iter(train_loader)\n",
        "X_batch, y_batch = next(data_iter)\n",
        "\n",
        "\n",
        "# Forward pass through the model to get predictions (continuous values for regression)\n",
        "outputs = pytorch_model(X_batch)\n",
        "\n",
        "# Print the predicted values and actual values for the batch (regression outputs)\n",
        "print(f'Predicted values (PyTorch): {outputs.squeeze().detach().numpy()}')  # Squeeze and convert to numpy for readability\n",
        "print(f'Actual values (PyTorch): {y_batch.squeeze().detach().numpy()}')  # Squeeze and convert to numpy for readability\n",
        "\n",
        "# Calculate the Mean Squared Error (MSE) for this batch\n",
        "mse_loss = nn.MSELoss()\n",
        "loss = mse_loss(outputs, y_batch)\n",
        "print(f'Mean Squared Error for this batch (PyTorch): {loss.item()}')"
      ],
      "metadata": {
        "id": "hHU1O_I3Zprh",
        "outputId": "0be31f4e-127d-4d98-af86-ae8066f3b4f4",
        "colab": {
          "base_uri": "https://localhost:8080/"
        }
      },
      "execution_count": 265,
      "outputs": [
        {
          "output_type": "stream",
          "name": "stdout",
          "text": [
            "Predicted values (PyTorch): [2.0633037  1.2218177  1.4181823  1.8121322  1.7787421  1.8127596\n",
            " 1.3465741  1.440633   1.5160692  2.571383   3.3223531  1.5161772\n",
            " 2.8522084  2.397526   3.237335   3.4010942  1.0253006  1.0302216\n",
            " 1.3387809  3.3312833  3.121824   1.1255155  1.7496297  1.463745\n",
            " 2.4488564  1.6618056  2.0651622  1.2903187  3.333152   1.0939628\n",
            " 4.5213556  1.1528476  2.1367962  2.7970402  4.660916   3.8814738\n",
            " 1.6537335  2.5316296  1.0628585  1.60214    3.7125418  2.452573\n",
            " 1.8364425  1.0685625  2.065656   3.3260438  3.3071585  0.73336446\n",
            " 2.2951777  2.3209212  2.2320468  0.844072   1.7119215  2.4571037\n",
            " 2.0490115  4.7622786  1.2172401  3.53016    1.386895   1.5978584\n",
            " 0.98410285 2.579932   2.3285282  0.91871905]\n",
            "Actual values (PyTorch): [1.89    1.689   1.13    1.369   1.139   1.875   0.906   1.423   1.237\n",
            " 1.967   1.984   0.931   2.667   2.407   3.743   3.586   1.208   1.078\n",
            " 1.182   4.126   1.794   0.864   1.267   1.875   2.356   1.448   2.658\n",
            " 1.268   3.727   1.192   4.144   0.992   2.058   3.426   3.512   3.609\n",
            " 1.74    2.701   0.967   0.787   2.684   2.338   1.596   0.98    1.743\n",
            " 3.      2.707   0.701   2.118   1.716   2.392   0.69    1.892   2.252\n",
            " 2.      5.00001 0.95    3.202   1.403   1.155   0.722   1.578   2.375\n",
            " 1.389  ]\n",
            "Mean Squared Error for this batch (PyTorch): 0.22135291993618011\n"
          ]
        }
      ]
    },
    {
      "cell_type": "code",
      "source": [
        "# Function to train the model and collect loss values for plotting\n",
        "def train_regression_with_curves(train_loader, test_loader, model, criterion, optimizer, epochs=40):\n",
        "    train_losses = []\n",
        "    test_losses = []\n",
        "\n",
        "    for epoch in range(epochs):\n",
        "        model.train()  # Set the model to training mode\n",
        "        running_loss = 0.0\n",
        "        for X_batch, y_batch in train_loader:\n",
        "            optimizer.zero_grad()\n",
        "            output = model(X_batch)\n",
        "            loss = criterion(output, y_batch)\n",
        "            loss.backward()\n",
        "            optimizer.step()\n",
        "            running_loss += loss.item()\n",
        "\n",
        "        # Average loss for this epoch\n",
        "        train_loss = running_loss / len(train_loader)\n",
        "        train_losses.append(train_loss)\n",
        "\n",
        "        # Evaluate on the test set after each epoch\n",
        "        test_loss = evaluate_regression(test_loader, model)\n",
        "        test_losses.append(test_loss)\n",
        "\n",
        "        print(f'Epoch [{epoch+1}/{epochs}], Train Loss: {train_loss:.4f}, Test Loss: {test_loss:.4f}')\n",
        "\n",
        "    return train_losses, test_losses\n",
        "\n",
        "# Evaluate the model on the test set\n",
        "def evaluate_regression(test_loader, model):\n",
        "    model.eval()\n",
        "    test_loss = 0.0\n",
        "    with torch.no_grad():\n",
        "        for X_batch, y_batch in test_loader:\n",
        "            output = model(X_batch)\n",
        "            loss = criterion(output, y_batch)\n",
        "            test_loss += loss.item()\n",
        "    return test_loss / len(test_loader)\n",
        "\n",
        "# Train the model and collect train/test losses\n",
        "train_losses, test_losses = train_regression_with_curves(train_loader, test_loader, pytorch_model, criterion, optimizer, epochs=40)\n",
        "\n",
        "# Plot the learning curves\n",
        "plt.figure(figsize=(10, 6))\n",
        "plt.plot(train_losses, label='Train Loss')\n",
        "plt.plot(test_losses, label='Test Loss')\n",
        "plt.xlabel('Epochs')\n",
        "plt.ylabel('Loss (MSE)')\n",
        "plt.title('Train vs Test Loss Over Epochs')\n",
        "plt.legend()\n",
        "plt.grid(True)\n",
        "plt.show()"
      ],
      "metadata": {
        "id": "hv_KpWj5ZvBs",
        "outputId": "6f022e1d-6852-4662-8f8e-f3501784ca72",
        "colab": {
          "base_uri": "https://localhost:8080/",
          "height": 1000
        }
      },
      "execution_count": 266,
      "outputs": [
        {
          "output_type": "stream",
          "name": "stdout",
          "text": [
            "Epoch [1/40], Train Loss: 0.2515, Test Loss: 0.2680\n",
            "Epoch [2/40], Train Loss: 0.2498, Test Loss: 0.2712\n",
            "Epoch [3/40], Train Loss: 0.2495, Test Loss: 0.2843\n",
            "Epoch [4/40], Train Loss: 0.2493, Test Loss: 0.2713\n",
            "Epoch [5/40], Train Loss: 0.2491, Test Loss: 0.2962\n",
            "Epoch [6/40], Train Loss: 0.2470, Test Loss: 0.2692\n",
            "Epoch [7/40], Train Loss: 0.2447, Test Loss: 0.2677\n",
            "Epoch [8/40], Train Loss: 0.2470, Test Loss: 0.2681\n",
            "Epoch [9/40], Train Loss: 0.2450, Test Loss: 0.2808\n",
            "Epoch [10/40], Train Loss: 0.2437, Test Loss: 0.2775\n",
            "Epoch [11/40], Train Loss: 0.2422, Test Loss: 0.2661\n",
            "Epoch [12/40], Train Loss: 0.2449, Test Loss: 0.2771\n",
            "Epoch [13/40], Train Loss: 0.2423, Test Loss: 0.2745\n",
            "Epoch [14/40], Train Loss: 0.2402, Test Loss: 0.2715\n",
            "Epoch [15/40], Train Loss: 0.2393, Test Loss: 0.2604\n",
            "Epoch [16/40], Train Loss: 0.2371, Test Loss: 0.2658\n",
            "Epoch [17/40], Train Loss: 0.2382, Test Loss: 0.2705\n",
            "Epoch [18/40], Train Loss: 0.2373, Test Loss: 0.2877\n",
            "Epoch [19/40], Train Loss: 0.2345, Test Loss: 0.2653\n",
            "Epoch [20/40], Train Loss: 0.2363, Test Loss: 0.2675\n",
            "Epoch [21/40], Train Loss: 0.2347, Test Loss: 0.2628\n",
            "Epoch [22/40], Train Loss: 0.2315, Test Loss: 0.2680\n",
            "Epoch [23/40], Train Loss: 0.2326, Test Loss: 0.2685\n",
            "Epoch [24/40], Train Loss: 0.2310, Test Loss: 0.2663\n",
            "Epoch [25/40], Train Loss: 0.2290, Test Loss: 0.2662\n",
            "Epoch [26/40], Train Loss: 0.2281, Test Loss: 0.2614\n",
            "Epoch [27/40], Train Loss: 0.2370, Test Loss: 0.2589\n",
            "Epoch [28/40], Train Loss: 0.2294, Test Loss: 0.2597\n",
            "Epoch [29/40], Train Loss: 0.2259, Test Loss: 0.2656\n",
            "Epoch [30/40], Train Loss: 0.2263, Test Loss: 0.2666\n",
            "Epoch [31/40], Train Loss: 0.2274, Test Loss: 0.2609\n",
            "Epoch [32/40], Train Loss: 0.2227, Test Loss: 0.2627\n",
            "Epoch [33/40], Train Loss: 0.2244, Test Loss: 0.2682\n",
            "Epoch [34/40], Train Loss: 0.2210, Test Loss: 0.2577\n",
            "Epoch [35/40], Train Loss: 0.2219, Test Loss: 0.2608\n",
            "Epoch [36/40], Train Loss: 0.2192, Test Loss: 0.2632\n",
            "Epoch [37/40], Train Loss: 0.2193, Test Loss: 0.2575\n",
            "Epoch [38/40], Train Loss: 0.2202, Test Loss: 0.2602\n",
            "Epoch [39/40], Train Loss: 0.2175, Test Loss: 0.2573\n",
            "Epoch [40/40], Train Loss: 0.2171, Test Loss: 0.2555\n"
          ]
        },
        {
          "output_type": "display_data",
          "data": {
            "text/plain": [
              "<Figure size 1000x600 with 1 Axes>"
            ],
            "image/png": "[encoded data removed]"
          },
          "metadata": {}
        }
      ]
    }
  ],
  "metadata": {
    "colab": {
      "name": "scratchpad",
      "provenance": [],
      "gpuType": "V28"
    },
    "kernelspec": {
      "display_name": "Python 3",
      "name": "python3"
    },
    "accelerator": "TPU"
  },
  "nbformat": 4,
  "nbformat_minor": 0
}