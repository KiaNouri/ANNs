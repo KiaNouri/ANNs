{
  "cells": [
    {
      "cell_type": "code",
      "execution_count": 41,
      "metadata": {
        "id": "lIYdn1woOS1n"
      },
      "outputs": [],
      "source": [
        "# basic packages\n",
        "import pandas as pd\n",
        "import matplotlib.pyplot as plt\n",
        "from sklearn.datasets import fetch_california_housing\n",
        "from sklearn.model_selection import train_test_split\n",
        "from sklearn.preprocessing import StandardScaler\n",
        "from sklearn.metrics import mean_squared_error\n"
      ]
    },
    {
      "cell_type": "code",
      "source": [
        "data = fetch_california_housing()\n",
        "X = pd.DataFrame(data.data, columns=data.feature_names)\n",
        "y = pd.DataFrame(data.target, columns=['MedHouseVal'])\n",
        "\n",
        "X.head()"
      ],
      "metadata": {
        "colab": {
          "base_uri": "https://localhost:8080/",
          "height": 206
        },
        "id": "bvI0d4rjx8Jz",
        "outputId": "918938ba-0e4d-4ad0-b1b3-d2e66258cc67"
      },
      "execution_count": 42,
      "outputs": [
        {
          "output_type": "execute_result",
          "data": {
            "text/plain": [
              "   MedInc  HouseAge  AveRooms  AveBedrms  Population  AveOccup  Latitude  \\\n",
              "0  8.3252      41.0  6.984127   1.023810       322.0  2.555556     37.88   \n",
              "1  8.3014      21.0  6.238137   0.971880      2401.0  2.109842     37.86   \n",
              "2  7.2574      52.0  8.288136   1.073446       496.0  2.802260     37.85   \n",
              "3  5.6431      52.0  5.817352   1.073059       558.0  2.547945     37.85   \n",
              "4  3.8462      52.0  6.281853   1.081081       565.0  2.181467     37.85   \n",
              "\n",
              "   Longitude  \n",
              "0    -122.23  \n",
              "1    -122.22  \n",
              "2    -122.24  \n",
              "3    -122.25  \n",
              "4    -122.25  "
            ],
            "text/html": [
              "\n",
              "  <div id=\"df-bc19bd69-ae73-447d-be2a-a65be9284c13\" class=\"colab-df-container\">\n",
              "    <div>\n",
              "<style scoped>\n",
              "    .dataframe tbody tr th:only-of-type {\n",
              "        vertical-align: middle;\n",
              "    }\n",
              "\n",
              "    .dataframe tbody tr th {\n",
              "        vertical-align: top;\n",
              "    }\n",
              "\n",
              "    .dataframe thead th {\n",
              "        text-align: right;\n",
              "    }\n",
              "</style>\n",
              "<table border=\"1\" class=\"dataframe\">\n",
              "  <thead>\n",
              "    <tr style=\"text-align: right;\">\n",
              "      <th></th>\n",
              "      <th>MedInc</th>\n",
              "      <th>HouseAge</th>\n",
              "      <th>AveRooms</th>\n",
              "      <th>AveBedrms</th>\n",
              "      <th>Population</th>\n",
              "      <th>AveOccup</th>\n",
              "      <th>Latitude</th>\n",
              "      <th>Longitude</th>\n",
              "    </tr>\n",
              "  </thead>\n",
              "  <tbody>\n",
              "    <tr>\n",
              "      <th>0</th>\n",
              "      <td>8.3252</td>\n",
              "      <td>41.0</td>\n",
              "      <td>6.984127</td>\n",
              "      <td>1.023810</td>\n",
              "      <td>322.0</td>\n",
              "      <td>2.555556</td>\n",
              "      <td>37.88</td>\n",
              "      <td>-122.23</td>\n",
              "    </tr>\n",
              "    <tr>\n",
              "      <th>1</th>\n",
              "      <td>8.3014</td>\n",
              "      <td>21.0</td>\n",
              "      <td>6.238137</td>\n",
              "      <td>0.971880</td>\n",
              "      <td>2401.0</td>\n",
              "      <td>2.109842</td>\n",
              "      <td>37.86</td>\n",
              "      <td>-122.22</td>\n",
              "    </tr>\n",
              "    <tr>\n",
              "      <th>2</th>\n",
              "      <td>7.2574</td>\n",
              "      <td>52.0</td>\n",
              "      <td>8.288136</td>\n",
              "      <td>1.073446</td>\n",
              "      <td>496.0</td>\n",
              "      <td>2.802260</td>\n",
              "      <td>37.85</td>\n",
              "      <td>-122.24</td>\n",
              "    </tr>\n",
              "    <tr>\n",
              "      <th>3</th>\n",
              "      <td>5.6431</td>\n",
              "      <td>52.0</td>\n",
              "      <td>5.817352</td>\n",
              "      <td>1.073059</td>\n",
              "      <td>558.0</td>\n",
              "      <td>2.547945</td>\n",
              "      <td>37.85</td>\n",
              "      <td>-122.25</td>\n",
              "    </tr>\n",
              "    <tr>\n",
              "      <th>4</th>\n",
              "      <td>3.8462</td>\n",
              "      <td>52.0</td>\n",
              "      <td>6.281853</td>\n",
              "      <td>1.081081</td>\n",
              "      <td>565.0</td>\n",
              "      <td>2.181467</td>\n",
              "      <td>37.85</td>\n",
              "      <td>-122.25</td>\n",
              "    </tr>\n",
              "  </tbody>\n",
              "</table>\n",
              "</div>\n",
              "    <div class=\"colab-df-buttons\">\n",
              "\n",
              "  <div class=\"colab-df-container\">\n",
              "    <button class=\"colab-df-convert\" onclick=\"convertToInteractive('df-bc19bd69-ae73-447d-be2a-a65be9284c13')\"\n",
              "            title=\"Convert this dataframe to an interactive table.\"\n",
              "            style=\"display:none;\">\n",
              "\n",
              "  <svg xmlns=\"http://www.w3.org/2000/svg\" height=\"24px\" viewBox=\"0 -960 960 960\">\n",
              "    <path d=\"M120-120v-720h720v720H120Zm60-500h600v-160H180v160Zm220 220h160v-160H400v160Zm0 220h160v-160H400v160ZM180-400h160v-160H180v160Zm440 0h160v-160H620v160ZM180-180h160v-160H180v160Zm440 0h160v-160H620v160Z\"/>\n",
              "  </svg>\n",
              "    </button>\n",
              "\n",
              "  <style>\n",
              "    .colab-df-container {\n",
              "      display:flex;\n",
              "      gap: 12px;\n",
              "    }\n",
              "\n",
              "    .colab-df-convert {\n",
              "      background-color: #E8F0FE;\n",
              "      border: none;\n",
              "      border-radius: 50%;\n",
              "      cursor: pointer;\n",
              "      display: none;\n",
              "      fill: #1967D2;\n",
              "      height: 32px;\n",
              "      padding: 0 0 0 0;\n",
              "      width: 32px;\n",
              "    }\n",
              "\n",
              "    .colab-df-convert:hover {\n",
              "      background-color: #E2EBFA;\n",
              "      box-shadow: 0px 1px 2px rgba(60, 64, 67, 0.3), 0px 1px 3px 1px rgba(60, 64, 67, 0.15);\n",
              "      fill: #174EA6;\n",
              "    }\n",
              "\n",
              "    .colab-df-buttons div {\n",
              "      margin-bottom: 4px;\n",
              "    }\n",
              "\n",
              "    [theme=dark] .colab-df-convert {\n",
              "      background-color: #3B4455;\n",
              "      fill: #D2E3FC;\n",
              "    }\n",
              "\n",
              "    [theme=dark] .colab-df-convert:hover {\n",
              "      background-color: #434B5C;\n",
              "      box-shadow: 0px 1px 3px 1px rgba(0, 0, 0, 0.15);\n",
              "      filter: drop-shadow(0px 1px 2px rgba(0, 0, 0, 0.3));\n",
              "      fill: #FFFFFF;\n",
              "    }\n",
              "  </style>\n",
              "\n",
              "    <script>\n",
              "      const buttonEl =\n",
              "        document.querySelector('#df-bc19bd69-ae73-447d-be2a-a65be9284c13 button.colab-df-convert');\n",
              "      buttonEl.style.display =\n",
              "        google.colab.kernel.accessAllowed ? 'block' : 'none';\n",
              "\n",
              "      async function convertToInteractive(key) {\n",
              "        const element = document.querySelector('#df-bc19bd69-ae73-447d-be2a-a65be9284c13');\n",
              "        const dataTable =\n",
              "          await google.colab.kernel.invokeFunction('convertToInteractive',\n",
              "                                                    [key], {});\n",
              "        if (!dataTable) return;\n",
              "\n",
              "        const docLinkHtml = 'Like what you see? Visit the ' +\n",
              "          '<a target=\"_blank\" href=https://colab.research.google.com/notebooks/data_table.ipynb>data table notebook</a>'\n",
              "          + ' to learn more about interactive tables.';\n",
              "        element.innerHTML = '';\n",
              "        dataTable['output_type'] = 'display_data';\n",
              "        await google.colab.output.renderOutput(dataTable, element);\n",
              "        const docLink = document.createElement('div');\n",
              "        docLink.innerHTML = docLinkHtml;\n",
              "        element.appendChild(docLink);\n",
              "      }\n",
              "    </script>\n",
              "  </div>\n",
              "\n",
              "\n",
              "<div id=\"df-ce10ca1a-4f1c-47fb-8304-6e95183429cc\">\n",
              "  <button class=\"colab-df-quickchart\" onclick=\"quickchart('df-ce10ca1a-4f1c-47fb-8304-6e95183429cc')\"\n",
              "            title=\"Suggest charts\"\n",
              "            style=\"display:none;\">\n",
              "\n",
              "<svg xmlns=\"http://www.w3.org/2000/svg\" height=\"24px\"viewBox=\"0 0 24 24\"\n",
              "     width=\"24px\">\n",
              "    <g>\n",
              "        <path d=\"M19 3H5c-1.1 0-2 .9-2 2v14c0 1.1.9 2 2 2h14c1.1 0 2-.9 2-2V5c0-1.1-.9-2-2-2zM9 17H7v-7h2v7zm4 0h-2V7h2v10zm4 0h-2v-4h2v4z\"/>\n",
              "    </g>\n",
              "</svg>\n",
              "  </button>\n",
              "\n",
              "<style>\n",
              "  .colab-df-quickchart {\n",
              "      --bg-color: #E8F0FE;\n",
              "      --fill-color: #1967D2;\n",
              "      --hover-bg-color: #E2EBFA;\n",
              "      --hover-fill-color: #174EA6;\n",
              "      --disabled-fill-color: #AAA;\n",
              "      --disabled-bg-color: #DDD;\n",
              "  }\n",
              "\n",
              "  [theme=dark] .colab-df-quickchart {\n",
              "      --bg-color: #3B4455;\n",
              "      --fill-color: #D2E3FC;\n",
              "      --hover-bg-color: #434B5C;\n",
              "      --hover-fill-color: #FFFFFF;\n",
              "      --disabled-bg-color: #3B4455;\n",
              "      --disabled-fill-color: #666;\n",
              "  }\n",
              "\n",
              "  .colab-df-quickchart {\n",
              "    background-color: var(--bg-color);\n",
              "    border: none;\n",
              "    border-radius: 50%;\n",
              "    cursor: pointer;\n",
              "    display: none;\n",
              "    fill: var(--fill-color);\n",
              "    height: 32px;\n",
              "    padding: 0;\n",
              "    width: 32px;\n",
              "  }\n",
              "\n",
              "  .colab-df-quickchart:hover {\n",
              "    background-color: var(--hover-bg-color);\n",
              "    box-shadow: 0 1px 2px rgba(60, 64, 67, 0.3), 0 1px 3px 1px rgba(60, 64, 67, 0.15);\n",
              "    fill: var(--button-hover-fill-color);\n",
              "  }\n",
              "\n",
              "  .colab-df-quickchart-complete:disabled,\n",
              "  .colab-df-quickchart-complete:disabled:hover {\n",
              "    background-color: var(--disabled-bg-color);\n",
              "    fill: var(--disabled-fill-color);\n",
              "    box-shadow: none;\n",
              "  }\n",
              "\n",
              "  .colab-df-spinner {\n",
              "    border: 2px solid var(--fill-color);\n",
              "    border-color: transparent;\n",
              "    border-bottom-color: var(--fill-color);\n",
              "    animation:\n",
              "      spin 1s steps(1) infinite;\n",
              "  }\n",
              "\n",
              "  @keyframes spin {\n",
              "    0% {\n",
              "      border-color: transparent;\n",
              "      border-bottom-color: var(--fill-color);\n",
              "      border-left-color: var(--fill-color);\n",
              "    }\n",
              "    20% {\n",
              "      border-color: transparent;\n",
              "      border-left-color: var(--fill-color);\n",
              "      border-top-color: var(--fill-color);\n",
              "    }\n",
              "    30% {\n",
              "      border-color: transparent;\n",
              "      border-left-color: var(--fill-color);\n",
              "      border-top-color: var(--fill-color);\n",
              "      border-right-color: var(--fill-color);\n",
              "    }\n",
              "    40% {\n",
              "      border-color: transparent;\n",
              "      border-right-color: var(--fill-color);\n",
              "      border-top-color: var(--fill-color);\n",
              "    }\n",
              "    60% {\n",
              "      border-color: transparent;\n",
              "      border-right-color: var(--fill-color);\n",
              "    }\n",
              "    80% {\n",
              "      border-color: transparent;\n",
              "      border-right-color: var(--fill-color);\n",
              "      border-bottom-color: var(--fill-color);\n",
              "    }\n",
              "    90% {\n",
              "      border-color: transparent;\n",
              "      border-bottom-color: var(--fill-color);\n",
              "    }\n",
              "  }\n",
              "</style>\n",
              "\n",
              "  <script>\n",
              "    async function quickchart(key) {\n",
              "      const quickchartButtonEl =\n",
              "        document.querySelector('#' + key + ' button');\n",
              "      quickchartButtonEl.disabled = true;  // To prevent multiple clicks.\n",
              "      quickchartButtonEl.classList.add('colab-df-spinner');\n",
              "      try {\n",
              "        const charts = await google.colab.kernel.invokeFunction(\n",
              "            'suggestCharts', [key], {});\n",
              "      } catch (error) {\n",
              "        console.error('Error during call to suggestCharts:', error);\n",
              "      }\n",
              "      quickchartButtonEl.classList.remove('colab-df-spinner');\n",
              "      quickchartButtonEl.classList.add('colab-df-quickchart-complete');\n",
              "    }\n",
              "    (() => {\n",
              "      let quickchartButtonEl =\n",
              "        document.querySelector('#df-ce10ca1a-4f1c-47fb-8304-6e95183429cc button');\n",
              "      quickchartButtonEl.style.display =\n",
              "        google.colab.kernel.accessAllowed ? 'block' : 'none';\n",
              "    })();\n",
              "  </script>\n",
              "</div>\n",
              "\n",
              "    </div>\n",
              "  </div>\n"
            ],
            "application/vnd.google.colaboratory.intrinsic+json": {
              "type": "dataframe",
              "variable_name": "X",
              "summary": "{\n  \"name\": \"X\",\n  \"rows\": 20640,\n  \"fields\": [\n    {\n      \"column\": \"MedInc\",\n      \"properties\": {\n        \"dtype\": \"number\",\n        \"std\": 1.8998217179452688,\n        \"min\": 0.4999,\n        \"max\": 15.0001,\n        \"num_unique_values\": 12928,\n        \"samples\": [\n          5.0286,\n          2.0433,\n          6.1228\n        ],\n        \"semantic_type\": \"\",\n        \"description\": \"\"\n      }\n    },\n    {\n      \"column\": \"HouseAge\",\n      \"properties\": {\n        \"dtype\": \"number\",\n        \"std\": 12.58555761211165,\n        \"min\": 1.0,\n        \"max\": 52.0,\n        \"num_unique_values\": 52,\n        \"samples\": [\n          35.0,\n          25.0,\n          7.0\n        ],\n        \"semantic_type\": \"\",\n        \"description\": \"\"\n      }\n    },\n    {\n      \"column\": \"AveRooms\",\n      \"properties\": {\n        \"dtype\": \"number\",\n        \"std\": 2.4741731394243187,\n        \"min\": 0.8461538461538461,\n        \"max\": 141.9090909090909,\n        \"num_unique_values\": 19392,\n        \"samples\": [\n          6.111269614835948,\n          5.912820512820513,\n          5.7924528301886795\n        ],\n        \"semantic_type\": \"\",\n        \"description\": \"\"\n      }\n    },\n    {\n      \"column\": \"AveBedrms\",\n      \"properties\": {\n        \"dtype\": \"number\",\n        \"std\": 0.473910856795466,\n        \"min\": 0.3333333333333333,\n        \"max\": 34.06666666666667,\n        \"num_unique_values\": 14233,\n        \"samples\": [\n          0.9906542056074766,\n          1.112099644128114,\n          1.0398230088495575\n        ],\n        \"semantic_type\": \"\",\n        \"description\": \"\"\n      }\n    },\n    {\n      \"column\": \"Population\",\n      \"properties\": {\n        \"dtype\": \"number\",\n        \"std\": 1132.462121765341,\n        \"min\": 3.0,\n        \"max\": 35682.0,\n        \"num_unique_values\": 3888,\n        \"samples\": [\n          4169.0,\n          636.0,\n          3367.0\n        ],\n        \"semantic_type\": \"\",\n        \"description\": \"\"\n      }\n    },\n    {\n      \"column\": \"AveOccup\",\n      \"properties\": {\n        \"dtype\": \"number\",\n        \"std\": 10.386049562213618,\n        \"min\": 0.6923076923076923,\n        \"max\": 1243.3333333333333,\n        \"num_unique_values\": 18841,\n        \"samples\": [\n          2.6939799331103678,\n          3.559375,\n          3.297082228116711\n        ],\n        \"semantic_type\": \"\",\n        \"description\": \"\"\n      }\n    },\n    {\n      \"column\": \"Latitude\",\n      \"properties\": {\n        \"dtype\": \"number\",\n        \"std\": 2.1359523974571153,\n        \"min\": 32.54,\n        \"max\": 41.95,\n        \"num_unique_values\": 862,\n        \"samples\": [\n          33.7,\n          34.41,\n          38.24\n        ],\n        \"semantic_type\": \"\",\n        \"description\": \"\"\n      }\n    },\n    {\n      \"column\": \"Longitude\",\n      \"properties\": {\n        \"dtype\": \"number\",\n        \"std\": 2.0035317235025882,\n        \"min\": -124.35,\n        \"max\": -114.31,\n        \"num_unique_values\": 844,\n        \"samples\": [\n          -118.63,\n          -119.86,\n          -121.26\n        ],\n        \"semantic_type\": \"\",\n        \"description\": \"\"\n      }\n    }\n  ]\n}"
            }
          },
          "metadata": {},
          "execution_count": 42
        }
      ]
    },
    {
      "cell_type": "code",
      "source": [
        "X.shape"
      ],
      "metadata": {
        "colab": {
          "base_uri": "https://localhost:8080/"
        },
        "id": "LyYniH5Iy_ZC",
        "outputId": "45f199c8-e67f-4836-85fe-328cf9f78922"
      },
      "execution_count": 43,
      "outputs": [
        {
          "output_type": "execute_result",
          "data": {
            "text/plain": [
              "(20640, 8)"
            ]
          },
          "metadata": {},
          "execution_count": 43
        }
      ]
    },
    {
      "cell_type": "code",
      "source": [
        "# Split the dataset into training and testing sets\n",
        "X_train, X_test, y_train, y_test = train_test_split(X, y, test_size=0.2, random_state=42)\n",
        "\n",
        "# Standardize the features (common preprocessing step)\n",
        "scaler = StandardScaler()\n",
        "scaler.fit(X_train)\n",
        "X_train = scaler.transform(X_train)\n",
        "X_test = scaler.transform(X_test)"
      ],
      "metadata": {
        "id": "4SVZD7gwzEh7"
      },
      "execution_count": 44,
      "outputs": []
    },
    {
      "cell_type": "markdown",
      "source": [
        "## PyTorch Setup for Regression (Price Prediction)"
      ],
      "metadata": {
        "id": "8Lqs8Qi30C9x"
      }
    },
    {
      "cell_type": "code",
      "source": [
        "import torch\n",
        "from torch.utils.data import DataLoader, TensorDataset\n",
        "import torch.nn as nn\n",
        "import torch.optim as optim\n",
        "\n"
      ],
      "metadata": {
        "id": "6AnEkZlz0Cs7"
      },
      "execution_count": 45,
      "outputs": []
    },
    {
      "cell_type": "code",
      "source": [
        "# Convert data to PyTorch tensors (backend setup)\n",
        "X_train_tensor = torch.tensor(X_train, dtype=torch.float32)\n",
        "y_train_tensor = torch.tensor(y_train.values, dtype=torch.float32)\n",
        "X_test_tensor = torch.tensor(X_test, dtype=torch.float32)\n",
        "y_test_tensor = torch.tensor(y_test.values, dtype=torch.float32)\n",
        "\n",
        "# Create DataLoader for batching\n",
        "train_loader = DataLoader(TensorDataset(X_train_tensor, y_train_tensor), batch_size=32, shuffle=True)\n",
        "test_loader = DataLoader(TensorDataset(X_test_tensor, y_test_tensor), batch_size=32, shuffle=False)\n"
      ],
      "metadata": {
        "id": "I5GRBYoZ3xCM"
      },
      "execution_count": 46,
      "outputs": []
    },
    {
      "cell_type": "code",
      "source": [
        "# Create the model\n",
        "class RegressionNN(nn.Module):\n",
        "    def __init__(self, input_size=8):\n",
        "        super(RegressionNN, self).__init__()\n",
        "        self.fc1 = nn.Linear(input_size, 64)\n",
        "        self.fc2 = nn.Linear(64, 32)\n",
        "        self.fc3 = nn.Linear(32, 1) # 1 output for house value prediction\n",
        "\n",
        "    def forward(self, x):\n",
        "      # functional API\n",
        "        x = torch.relu(self.fc1(x))\n",
        "        x = torch.relu(self.fc2(x))\n",
        "        x = self.fc3(x)\n",
        "        return x\n"
      ],
      "metadata": {
        "id": "zAgtuVd434v3"
      },
      "execution_count": 47,
      "outputs": []
    },
    {
      "cell_type": "code",
      "source": [
        "# Initialize the model, loss function, and optimizer\n",
        "pytorch_model = RegressionNN()\n",
        "\n",
        "criterion = nn.MSELoss()\n",
        "optimizer = optim.Adam(pytorch_model.parameters(), lr=0.001)\n"
      ],
      "metadata": {
        "id": "BDY5u8i0-vLt"
      },
      "execution_count": 48,
      "outputs": []
    },
    {
      "cell_type": "code",
      "source": [
        "!pip install torchsummary"
      ],
      "metadata": {
        "colab": {
          "base_uri": "https://localhost:8080/"
        },
        "id": "k5I73VDI_Wdy",
        "outputId": "b97f1102-7706-458c-dcd9-8c1c4766739e"
      },
      "execution_count": 49,
      "outputs": [
        {
          "output_type": "stream",
          "name": "stdout",
          "text": [
            "Requirement already satisfied: torchsummary in /usr/local/lib/python3.10/dist-packages (1.5.1)\n"
          ]
        }
      ]
    },
    {
      "cell_type": "code",
      "source": [
        "from torchsummary import summary\n",
        "print(\"PyTorch Model Summary:\")\n",
        "summary(pytorch_model, input_size=(8,))"
      ],
      "metadata": {
        "colab": {
          "base_uri": "https://localhost:8080/"
        },
        "id": "mv_hGktV_KYw",
        "outputId": "1976f242-24ed-4fad-eed9-f339d8cb34dc"
      },
      "execution_count": 50,
      "outputs": [
        {
          "output_type": "stream",
          "name": "stdout",
          "text": [
            "PyTorch Model Summary:\n",
            "----------------------------------------------------------------\n",
            "        Layer (type)               Output Shape         Param #\n",
            "================================================================\n",
            "            Linear-1                   [-1, 64]             576\n",
            "            Linear-2                   [-1, 32]           2,080\n",
            "            Linear-3                    [-1, 1]              33\n",
            "================================================================\n",
            "Total params: 2,689\n",
            "Trainable params: 2,689\n",
            "Non-trainable params: 0\n",
            "----------------------------------------------------------------\n",
            "Input size (MB): 0.00\n",
            "Forward/backward pass size (MB): 0.00\n",
            "Params size (MB): 0.01\n",
            "Estimated Total Size (MB): 0.01\n",
            "----------------------------------------------------------------\n"
          ]
        }
      ]
    },
    {
      "cell_type": "code",
      "source": [
        "def train_regression(train_loader, model, criterion, optimizer, num_epochs=10):\n",
        "    model.train()\n",
        "    for epoch in range(num_epochs):\n",
        "        running_loss = 0.0\n",
        "        for inputs, targets in train_loader:\n",
        "            optimizer.zero_grad()\n",
        "            outputs = model(inputs)\n",
        "            loss = criterion(outputs, targets)\n",
        "            loss.backward() # backpropagation\n",
        "            optimizer.step()\n",
        "            running_loss += loss.item()\n",
        "        print(f\"Epoch {epoch+1}/{num_epochs}, Loss: {running_loss/len(train_loader)}\")\n",
        "\n",
        "\n",
        "train_regression(train_loader, pytorch_model, criterion, optimizer, num_epochs=10)"
      ],
      "metadata": {
        "colab": {
          "base_uri": "https://localhost:8080/"
        },
        "id": "eak1Oqfc_s-i",
        "outputId": "ab6849ff-79a8-43f8-f8f1-d145e1d9ec86"
      },
      "execution_count": 51,
      "outputs": [
        {
          "output_type": "stream",
          "name": "stdout",
          "text": [
            "Epoch 1/10, Loss: 0.9774379895408024\n",
            "Epoch 2/10, Loss: 0.4293596780057563\n",
            "Epoch 3/10, Loss: 0.39554992901493413\n",
            "Epoch 4/10, Loss: 0.3782799351931542\n",
            "Epoch 5/10, Loss: 0.36201374071050985\n",
            "Epoch 6/10, Loss: 0.33818529920233775\n",
            "Epoch 7/10, Loss: 0.3285635994646207\n",
            "Epoch 8/10, Loss: 0.32705942070645877\n",
            "Epoch 9/10, Loss: 0.31508776601837124\n",
            "Epoch 10/10, Loss: 0.3095848806664463\n"
          ]
        }
      ]
    },
    {
      "cell_type": "code",
      "source": [
        "def eval_regression(test_loader, model):\n",
        "    model.eval()\n",
        "    test_loss = 0.0\n",
        "    with torch.no_grad():\n",
        "        for X_batch, y_batch in test_loader:\n",
        "            output = model(X_batch)\n",
        "            loss = criterion(output, y_batch)\n",
        "            test_loss += loss.item()\n",
        "    return test_loss / len(test_loader)\n",
        "\n",
        "test_loss = eval_regression(test_loader, pytorch_model)\n",
        "print(f\"Test Loss: {test_loss}\")"
      ],
      "metadata": {
        "colab": {
          "base_uri": "https://localhost:8080/"
        },
        "id": "kdC29xCwDTDj",
        "outputId": "b91a96d6-cfae-4e45-ad99-36ba6c5d5d7d"
      },
      "execution_count": 52,
      "outputs": [
        {
          "output_type": "stream",
          "name": "stdout",
          "text": [
            "Test Loss: 0.32537672247073446\n"
          ]
        }
      ]
    },
    {
      "cell_type": "code",
      "source": [
        "# Get a batch of data from the training set in PyTorch\n",
        "data_iter = iter(train_loader)\n",
        "X_batch, y_batch = next(data_iter)\n",
        "\n",
        "\n",
        "# Forward pass through the model to get predictions (continuous values for regression)\n",
        "outputs = pytorch_model(X_batch)\n",
        "\n",
        "# Print the predicted values and actual values for the batch (regression outputs)\n",
        "print(f'Predicted values (PyTorch): {outputs.squeeze().detach().numpy()}')  # Squeeze and convert to numpy for readability\n",
        "print(f'Actual values (PyTorch): {y_batch.squeeze().detach().numpy()}')  # Squeeze and convert to numpy for readability\n",
        "\n",
        "# Calculate the Mean Squared Error (MSE) for this batch\n",
        "mse_loss = nn.MSELoss()\n",
        "loss = mse_loss(outputs, y_batch)\n",
        "print(f'Mean Squared Error for this batch (PyTorch): {loss.item()}')\n"
      ],
      "metadata": {
        "colab": {
          "base_uri": "https://localhost:8080/"
        },
        "id": "13xmchQoDwia",
        "outputId": "a3d16f55-0a82-4e9e-d0f0-f5f0572c1a7a"
      },
      "execution_count": 53,
      "outputs": [
        {
          "output_type": "stream",
          "name": "stdout",
          "text": [
            "Predicted values (PyTorch): [4.2845664  0.75736177 0.7334819  2.9114406  1.7905616  3.1194544\n",
            " 2.7300963  2.7075107  1.988818   1.5303407  6.452503   1.0764937\n",
            " 2.8756208  2.3506486  1.4218271  1.0827767  2.91194    2.7455037\n",
            " 3.3610847  1.4575156  1.639481   2.6508977  4.100216   4.0619464\n",
            " 4.0422235  2.871984   1.1484269  3.1439846  1.4380093  2.4656515\n",
            " 4.6963935  1.4881167 ]\n",
            "Actual values (PyTorch): [5.00001 0.5     0.719   2.766   1.55    2.5     4.383   1.054   2.293\n",
            " 1.53    5.00001 0.825   2.566   2.021   1.425   1.319   3.      2.125\n",
            " 2.869   1.818   2.583   3.5     2.5     3.842   3.218   2.105   0.894\n",
            " 2.335   0.948   2.013   5.00001 1.384  ]\n",
            "Mean Squared Error for this batch (PyTorch): 0.5172832608222961\n"
          ]
        }
      ]
    },
    {
      "cell_type": "code",
      "source": [
        "# Function to train the model and collect loss values for plotting\n",
        "def train_regression_with_curves(train_loader, test_loader, model, criterion, optimizer, epochs=20):\n",
        "    train_losses = []\n",
        "    test_losses = []\n",
        "\n",
        "    for epoch in range(epochs):\n",
        "        model.train()  # Set the model to training mode\n",
        "        running_loss = 0.0\n",
        "        for X_batch, y_batch in train_loader:\n",
        "            optimizer.zero_grad()\n",
        "            output = model(X_batch)\n",
        "            loss = criterion(output, y_batch)\n",
        "            loss.backward()\n",
        "            optimizer.step()\n",
        "            running_loss += loss.item()\n",
        "\n",
        "        # Average loss for this epoch\n",
        "        train_loss = running_loss / len(train_loader)\n",
        "        train_losses.append(train_loss)\n",
        "\n",
        "        # Evaluate on the test set after each epoch\n",
        "        test_loss = evaluate_regression(test_loader, model)\n",
        "        test_losses.append(test_loss)\n",
        "\n",
        "        print(f'Epoch [{epoch+1}/{epochs}], Train Loss: {train_loss:.4f}, Test Loss: {test_loss:.4f}')\n",
        "\n",
        "    return train_losses, test_losses\n",
        "\n",
        "# Evaluate the model on the test set\n",
        "def evaluate_regression(test_loader, model):\n",
        "    model.eval()\n",
        "    test_loss = 0.0\n",
        "    with torch.no_grad():\n",
        "        for X_batch, y_batch in test_loader:\n",
        "            output = model(X_batch)\n",
        "            loss = criterion(output, y_batch)\n",
        "            test_loss += loss.item()\n",
        "    return test_loss / len(test_loader)\n",
        "\n",
        "# Train the model and collect train/test losses\n",
        "train_losses, test_losses = train_regression_with_curves(train_loader, test_loader, pytorch_model, criterion, optimizer, epochs=50)\n",
        "\n",
        "# Plot the learning curves\n",
        "plt.figure(figsize=(10, 6))\n",
        "plt.plot(train_losses, label='Train Loss')\n",
        "plt.plot(test_losses, label='Test Loss')\n",
        "plt.xlabel('Epochs')\n",
        "plt.ylabel('Loss (MSE)')\n",
        "plt.title('Train vs Test Loss Over Epochs')\n",
        "plt.legend()\n",
        "plt.grid(True)\n",
        "plt.show()\n"
      ],
      "metadata": {
        "colab": {
          "base_uri": "https://localhost:8080/",
          "height": 1000
        },
        "id": "W6sH8YTlD8VM",
        "outputId": "6d7647ca-e434-4189-e9fc-e5e5097dd61e"
      },
      "execution_count": 54,
      "outputs": [
        {
          "output_type": "stream",
          "name": "stdout",
          "text": [
            "Epoch [1/50], Train Loss: 0.3070, Test Loss: 0.3153\n",
            "Epoch [2/50], Train Loss: 0.3010, Test Loss: 0.3178\n",
            "Epoch [3/50], Train Loss: 0.2974, Test Loss: 0.3056\n",
            "Epoch [4/50], Train Loss: 0.2951, Test Loss: 0.3036\n",
            "Epoch [5/50], Train Loss: 0.2965, Test Loss: 0.3000\n",
            "Epoch [6/50], Train Loss: 0.2946, Test Loss: 0.2996\n",
            "Epoch [7/50], Train Loss: 0.2894, Test Loss: 0.3166\n",
            "Epoch [8/50], Train Loss: 0.2863, Test Loss: 0.3042\n",
            "Epoch [9/50], Train Loss: 0.2847, Test Loss: 0.3096\n",
            "Epoch [10/50], Train Loss: 0.2827, Test Loss: 0.2982\n",
            "Epoch [11/50], Train Loss: 0.2820, Test Loss: 0.2914\n",
            "Epoch [12/50], Train Loss: 0.2823, Test Loss: 0.2901\n",
            "Epoch [13/50], Train Loss: 0.2803, Test Loss: 0.2876\n",
            "Epoch [14/50], Train Loss: 0.2766, Test Loss: 0.2964\n",
            "Epoch [15/50], Train Loss: 0.2763, Test Loss: 0.2884\n",
            "Epoch [16/50], Train Loss: 0.2742, Test Loss: 0.2856\n",
            "Epoch [17/50], Train Loss: 0.2760, Test Loss: 0.2862\n",
            "Epoch [18/50], Train Loss: 0.2774, Test Loss: 0.2861\n",
            "Epoch [19/50], Train Loss: 0.2719, Test Loss: 0.2913\n",
            "Epoch [20/50], Train Loss: 0.2708, Test Loss: 0.2828\n",
            "Epoch [21/50], Train Loss: 0.2679, Test Loss: 0.2832\n",
            "Epoch [22/50], Train Loss: 0.2691, Test Loss: 0.2835\n",
            "Epoch [23/50], Train Loss: 0.2677, Test Loss: 0.2804\n",
            "Epoch [24/50], Train Loss: 0.2665, Test Loss: 0.2839\n",
            "Epoch [25/50], Train Loss: 0.2654, Test Loss: 0.2835\n",
            "Epoch [26/50], Train Loss: 0.2642, Test Loss: 0.2778\n",
            "Epoch [27/50], Train Loss: 0.2669, Test Loss: 0.2998\n",
            "Epoch [28/50], Train Loss: 0.2653, Test Loss: 0.2797\n",
            "Epoch [29/50], Train Loss: 0.2634, Test Loss: 0.2903\n",
            "Epoch [30/50], Train Loss: 0.2635, Test Loss: 0.2774\n",
            "Epoch [31/50], Train Loss: 0.2602, Test Loss: 0.2812\n",
            "Epoch [32/50], Train Loss: 0.2612, Test Loss: 0.2763\n",
            "Epoch [33/50], Train Loss: 0.2602, Test Loss: 0.2759\n",
            "Epoch [34/50], Train Loss: 0.2613, Test Loss: 0.2805\n",
            "Epoch [35/50], Train Loss: 0.2598, Test Loss: 0.2849\n",
            "Epoch [36/50], Train Loss: 0.2591, Test Loss: 0.2798\n",
            "Epoch [37/50], Train Loss: 0.2589, Test Loss: 0.2740\n",
            "Epoch [38/50], Train Loss: 0.2574, Test Loss: 0.2810\n",
            "Epoch [39/50], Train Loss: 0.2573, Test Loss: 0.2764\n",
            "Epoch [40/50], Train Loss: 0.2568, Test Loss: 0.2795\n",
            "Epoch [41/50], Train Loss: 0.2555, Test Loss: 0.2822\n",
            "Epoch [42/50], Train Loss: 0.2545, Test Loss: 0.2759\n",
            "Epoch [43/50], Train Loss: 0.2554, Test Loss: 0.2727\n",
            "Epoch [44/50], Train Loss: 0.2538, Test Loss: 0.2806\n",
            "Epoch [45/50], Train Loss: 0.2561, Test Loss: 0.2784\n",
            "Epoch [46/50], Train Loss: 0.2552, Test Loss: 0.2766\n",
            "Epoch [47/50], Train Loss: 0.2514, Test Loss: 0.2743\n",
            "Epoch [48/50], Train Loss: 0.2526, Test Loss: 0.2733\n",
            "Epoch [49/50], Train Loss: 0.2531, Test Loss: 0.2711\n",
            "Epoch [50/50], Train Loss: 0.2518, Test Loss: 0.2905\n"
          ]
        },
        {
          "output_type": "display_data",
          "data": {
            "text/plain": [
              "<Figure size 1000x600 with 1 Axes>"
            ],
            "image/png": "[encoded data removed]"
          },
          "metadata": {}
        }
      ]
    },
    {
      "cell_type": "markdown",
      "source": [
        "## Keras Setup for Regression (Price Prediction)"
      ],
      "metadata": {
        "id": "XtHe0BKp0Jwz"
      }
    },
    {
      "cell_type": "code",
      "source": [
        "##################################\n",
        "# Keras Setup for Regression\n",
        "##################################\n",
        "from tensorflow.keras.models import Sequential\n",
        "from tensorflow.keras.layers import Dense"
      ],
      "metadata": {
        "id": "t8twbwfDEf45"
      },
      "execution_count": 55,
      "outputs": []
    },
    {
      "cell_type": "code",
      "source": [
        "# Define a simple neural network for regression using Keras\n",
        "model_keras = Sequential()\n",
        "model_keras.add(Dense(64, input_dim=X_train.shape[1], activation='relu'))\n",
        "model_keras.add(Dense(32, activation='relu'))\n",
        "model_keras.add(Dense(1))  # Single output for regression\n",
        "\n",
        "\n",
        "# Compile the Keras model\n",
        "model_keras.compile(optimizer='adam', loss='mean_squared_error')\n"
      ],
      "metadata": {
        "id": "lAiPTHX6En9G"
      },
      "execution_count": 56,
      "outputs": []
    },
    {
      "cell_type": "code",
      "source": [
        "# Keras model structure visualization\n",
        "print(\"Keras Model Structure:\")\n",
        "model_keras.summary()\n"
      ],
      "metadata": {
        "colab": {
          "base_uri": "https://localhost:8080/"
        },
        "id": "KTUAQF2jFK53",
        "outputId": "a77690ae-f2b7-46d3-81c0-33a1f1a7be11"
      },
      "execution_count": 57,
      "outputs": [
        {
          "output_type": "stream",
          "name": "stdout",
          "text": [
            "Keras Model Structure:\n",
            "Model: \"sequential_2\"\n",
            "_________________________________________________________________\n",
            " Layer (type)                Output Shape              Param #   \n",
            "=================================================================\n",
            " dense_6 (Dense)             (None, 64)                576       \n",
            "                                                                 \n",
            " dense_7 (Dense)             (None, 32)                2080      \n",
            "                                                                 \n",
            " dense_8 (Dense)             (None, 1)                 33        \n",
            "                                                                 \n",
            "=================================================================\n",
            "Total params: 2689 (10.50 KB)\n",
            "Trainable params: 2689 (10.50 KB)\n",
            "Non-trainable params: 0 (0.00 Byte)\n",
            "_________________________________________________________________\n"
          ]
        }
      ]
    },
    {
      "cell_type": "code",
      "source": [
        "# Train the Keras model\n",
        "history = model_keras.fit(X_train, y_train, epochs=50, batch_size=32, validation_data=(X_test, y_test))\n"
      ],
      "metadata": {
        "colab": {
          "base_uri": "https://localhost:8080/"
        },
        "id": "M4a1eu5sFOkf",
        "outputId": "c6f8abe4-6e92-4dc2-b4d0-faa14321db2d"
      },
      "execution_count": 58,
      "outputs": [
        {
          "output_type": "stream",
          "name": "stdout",
          "text": [
            "Epoch 1/50\n",
            "516/516 [==============================] - 2s 2ms/step - loss: 0.9048 - val_loss: 0.4666\n",
            "Epoch 2/50\n",
            "516/516 [==============================] - 1s 2ms/step - loss: 0.4066 - val_loss: 0.3967\n",
            "Epoch 3/50\n",
            "516/516 [==============================] - 1s 2ms/step - loss: 0.3736 - val_loss: 0.3709\n",
            "Epoch 4/50\n",
            "516/516 [==============================] - 1s 2ms/step - loss: 0.3541 - val_loss: 0.3713\n",
            "Epoch 5/50\n",
            "516/516 [==============================] - 1s 2ms/step - loss: 0.3435 - val_loss: 0.3489\n",
            "Epoch 6/50\n",
            "516/516 [==============================] - 1s 2ms/step - loss: 0.3783 - val_loss: 0.3465\n",
            "Epoch 7/50\n",
            "516/516 [==============================] - 1s 2ms/step - loss: 0.3325 - val_loss: 0.3373\n",
            "Epoch 8/50\n",
            "516/516 [==============================] - 1s 2ms/step - loss: 0.3177 - val_loss: 0.3518\n",
            "Epoch 9/50\n",
            "516/516 [==============================] - 1s 2ms/step - loss: 0.3174 - val_loss: 0.3262\n",
            "Epoch 10/50\n",
            "516/516 [==============================] - 1s 2ms/step - loss: 0.3119 - val_loss: 0.3375\n",
            "Epoch 11/50\n",
            "516/516 [==============================] - 1s 2ms/step - loss: 0.3109 - val_loss: 0.3150\n",
            "Epoch 12/50\n",
            "516/516 [==============================] - 1s 2ms/step - loss: 0.3083 - val_loss: 0.3252\n",
            "Epoch 13/50\n",
            "516/516 [==============================] - 1s 2ms/step - loss: 0.3027 - val_loss: 0.3096\n",
            "Epoch 14/50\n",
            "516/516 [==============================] - 1s 2ms/step - loss: 0.2983 - val_loss: 0.3169\n",
            "Epoch 15/50\n",
            "516/516 [==============================] - 1s 2ms/step - loss: 0.2952 - val_loss: 0.3054\n",
            "Epoch 16/50\n",
            "516/516 [==============================] - 1s 2ms/step - loss: 0.2945 - val_loss: 0.3090\n",
            "Epoch 17/50\n",
            "516/516 [==============================] - 1s 2ms/step - loss: 0.2894 - val_loss: 0.3034\n",
            "Epoch 18/50\n",
            "516/516 [==============================] - 1s 2ms/step - loss: 0.2911 - val_loss: 0.3031\n",
            "Epoch 19/50\n",
            "516/516 [==============================] - 1s 2ms/step - loss: 0.2914 - val_loss: 0.3016\n",
            "Epoch 20/50\n",
            "516/516 [==============================] - 1s 2ms/step - loss: 0.2864 - val_loss: 0.3057\n",
            "Epoch 21/50\n",
            "516/516 [==============================] - 1s 2ms/step - loss: 0.2851 - val_loss: 0.3001\n",
            "Epoch 22/50\n",
            "516/516 [==============================] - 1s 2ms/step - loss: 0.2823 - val_loss: 0.3064\n",
            "Epoch 23/50\n",
            "516/516 [==============================] - 1s 2ms/step - loss: 0.2805 - val_loss: 0.2919\n",
            "Epoch 24/50\n",
            "516/516 [==============================] - 1s 2ms/step - loss: 0.2771 - val_loss: 0.2977\n",
            "Epoch 25/50\n",
            "516/516 [==============================] - 1s 2ms/step - loss: 0.2765 - val_loss: 0.2904\n",
            "Epoch 26/50\n",
            "516/516 [==============================] - 1s 2ms/step - loss: 0.2774 - val_loss: 0.3048\n",
            "Epoch 27/50\n",
            "516/516 [==============================] - 1s 2ms/step - loss: 0.2747 - val_loss: 0.2952\n",
            "Epoch 28/50\n",
            "516/516 [==============================] - 1s 2ms/step - loss: 0.2709 - val_loss: 0.2825\n",
            "Epoch 29/50\n",
            "516/516 [==============================] - 1s 2ms/step - loss: 0.2699 - val_loss: 0.2934\n",
            "Epoch 30/50\n",
            "516/516 [==============================] - 1s 2ms/step - loss: 0.2716 - val_loss: 0.2833\n",
            "Epoch 31/50\n",
            "516/516 [==============================] - 1s 2ms/step - loss: 0.2695 - val_loss: 0.2866\n",
            "Epoch 32/50\n",
            "516/516 [==============================] - 1s 2ms/step - loss: 0.2771 - val_loss: 0.2817\n",
            "Epoch 33/50\n",
            "516/516 [==============================] - 1s 2ms/step - loss: 0.2676 - val_loss: 0.2798\n",
            "Epoch 34/50\n",
            "516/516 [==============================] - 1s 2ms/step - loss: 0.2681 - val_loss: 0.2804\n",
            "Epoch 35/50\n",
            "516/516 [==============================] - 1s 2ms/step - loss: 0.2659 - val_loss: 0.2819\n",
            "Epoch 36/50\n",
            "516/516 [==============================] - 1s 2ms/step - loss: 0.2632 - val_loss: 0.2842\n",
            "Epoch 37/50\n",
            "516/516 [==============================] - 1s 2ms/step - loss: 0.2630 - val_loss: 0.2915\n",
            "Epoch 38/50\n",
            "516/516 [==============================] - 1s 2ms/step - loss: 0.2644 - val_loss: 0.2858\n",
            "Epoch 39/50\n",
            "516/516 [==============================] - 1s 2ms/step - loss: 0.2592 - val_loss: 0.3097\n",
            "Epoch 40/50\n",
            "516/516 [==============================] - 1s 2ms/step - loss: 0.2587 - val_loss: 0.2791\n",
            "Epoch 41/50\n",
            "516/516 [==============================] - 1s 2ms/step - loss: 0.2586 - val_loss: 0.2912\n",
            "Epoch 42/50\n",
            "516/516 [==============================] - 1s 2ms/step - loss: 0.2613 - val_loss: 0.2811\n",
            "Epoch 43/50\n",
            "516/516 [==============================] - 1s 2ms/step - loss: 0.2577 - val_loss: 0.2745\n",
            "Epoch 44/50\n",
            "516/516 [==============================] - 1s 2ms/step - loss: 0.2609 - val_loss: 0.2753\n",
            "Epoch 45/50\n",
            "516/516 [==============================] - 1s 2ms/step - loss: 0.2573 - val_loss: 0.2785\n",
            "Epoch 46/50\n",
            "516/516 [==============================] - 1s 2ms/step - loss: 0.2554 - val_loss: 0.2732\n",
            "Epoch 47/50\n",
            "516/516 [==============================] - 1s 2ms/step - loss: 0.2552 - val_loss: 0.2837\n",
            "Epoch 48/50\n",
            "516/516 [==============================] - 1s 2ms/step - loss: 0.2539 - val_loss: 0.2779\n",
            "Epoch 49/50\n",
            "516/516 [==============================] - 1s 2ms/step - loss: 0.2530 - val_loss: 0.2891\n",
            "Epoch 50/50\n",
            "516/516 [==============================] - 1s 2ms/step - loss: 0.2514 - val_loss: 0.2800\n"
          ]
        }
      ]
    },
    {
      "cell_type": "code",
      "source": [
        "# Evaluate the Keras model on a single batch\n",
        "X_batch = X_train[:32]  # First 32 samples\n",
        "y_batch = y_train[:32]\n",
        "y_pred = model_keras.predict(X_batch)\n",
        "\n",
        "# Display predicted and actual values in Keras\n",
        "print(f'Predicted values (Keras): {y_pred.flatten()}')\n",
        "print(f'Actual values (Keras): {y_batch.values.flatten()}')\n"
      ],
      "metadata": {
        "colab": {
          "base_uri": "https://localhost:8080/"
        },
        "id": "APRwXzm4GAs4",
        "outputId": "55176be4-764b-44bc-df17-83a42f7239fb"
      },
      "execution_count": 59,
      "outputs": [
        {
          "output_type": "stream",
          "name": "stdout",
          "text": [
            "1/1 [==============================] - 0s 51ms/step\n",
            "Predicted values (Keras): [1.2790401  3.8271065  2.0638287  1.0407965  1.0769551  2.9731698\n",
            " 1.539097   4.636314   1.6638235  2.7968092  2.7071805  2.1407413\n",
            " 1.2040315  1.3879347  1.9807138  1.7413322  2.1730356  1.5432447\n",
            " 1.7723191  1.4670018  0.93223214 4.938828   1.2887195  1.1765118\n",
            " 0.8610941  3.5323567  0.6375417  1.7758553  2.4245431  1.3792472\n",
            " 1.4129938  1.6927116 ]\n",
            "Actual values (Keras): [1.03    3.821   1.726   0.934   0.965   2.648   1.573   5.00001 1.398\n",
            " 3.156   2.319   1.594   0.96    1.875   2.299   1.177   1.696   1.308\n",
            " 1.574   0.941   0.727   5.00001 0.958   0.975   0.788   2.92    0.425\n",
            " 1.875   2.182   0.875   1.463   1.374  ]\n"
          ]
        }
      ]
    },
    {
      "cell_type": "code",
      "source": [
        "# Step 3: Plot learning curves\n",
        "plt.figure(figsize=(10, 6))\n",
        "plt.plot(history.history['loss'], label='Train Loss')\n",
        "plt.plot(history.history['val_loss'], label='Validation Loss')\n",
        "plt.xlabel('Epochs')\n",
        "plt.ylabel('Loss (MSE)')\n",
        "plt.title('Train vs Validation Loss Over Epochs')\n",
        "plt.legend()\n",
        "plt.grid(True)\n",
        "plt.show()\n"
      ],
      "metadata": {
        "colab": {
          "base_uri": "https://localhost:8080/",
          "height": 564
        },
        "id": "k6iye2U3FYIO",
        "outputId": "d1045eed-a6c4-4ef2-a991-0d3253fb4ed1"
      },
      "execution_count": 60,
      "outputs": [
        {
          "output_type": "display_data",
          "data": {
            "text/plain": [
              "<Figure size 1000x600 with 1 Axes>"
            ],
            "image/png": "[encoded data removed]"
          },
          "metadata": {}
        }
      ]
    }
  ],
  "metadata": {
    "colab": {
      "name": "scratchpad",
      "provenance": [],
      "gpuType": "V28"
    },
    "kernelspec": {
      "display_name": "Python 3",
      "name": "python3"
    },
    "accelerator": "TPU"
  },
  "nbformat": 4,
  "nbformat_minor": 0
}